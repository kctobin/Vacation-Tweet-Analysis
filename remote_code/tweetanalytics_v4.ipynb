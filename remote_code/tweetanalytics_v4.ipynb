{
 "cells": [
  {
   "cell_type": "code",
   "execution_count": 211,
   "metadata": {
    "collapsed": false
   },
   "outputs": [],
   "source": [
    "import pandas as pd\n",
    "import datetime as dt\n",
    "import numpy as np\n",
    "from fuzzywuzzy import process\n",
    "from fuzzywuzzy import fuzz\n",
    "from nltk.sentiment.vader import SentimentIntensityAnalyzer\n",
    "import unicodedata\n",
    "import psycopg2\n",
    "import time\n",
    "from psycopg2.extensions import ISOLATION_LEVEL_AUTOCOMMIT\n",
    "import string\n",
    "import datetime"
   ]
  },
  {
   "cell_type": "code",
   "execution_count": 212,
   "metadata": {
    "collapsed": true
   },
   "outputs": [],
   "source": [
    "hosturl = \"ec2-54-221-107-226.compute-1.amazonaws.com\""
   ]
  },
  {
   "cell_type": "code",
   "execution_count": 227,
   "metadata": {
    "collapsed": false
   },
   "outputs": [
    {
     "name": "stdout",
     "output_type": "stream",
     "text": [
      "SELECT ID, TEXT, UPDATE_TIME, NOUNS, SENTIMENT from tweets_analytics WHERE CAST(UPDATE_TIME AS TIMESTAMP) >  '2017-12-19 21:00:00' and CAST(UPDATE_TIME AS TIMESTAMP) < '2017-12-19 22:00:00'\n"
     ]
    }
   ],
   "source": [
    "#gather tweets\n",
    "conn = psycopg2.connect(database=\"postgres\", user=\"power_user\", password=\"$poweruserpassword\", host=hosturl, port=\"5432\")\n",
    "cur = conn.cursor()\n",
    "\n",
    "query_string = \"SELECT ID, TEXT, UPDATE_TIME, NOUNS, SENTIMENT from tweets_analytics\"\n",
    "query_string += \" WHERE CAST(UPDATE_TIME AS TIMESTAMP) >  '2017-12-19 21:00:00'\"\n",
    "query_string += \" and CAST(UPDATE_TIME AS TIMESTAMP) < '2017-12-19 22:00:00'\"\n",
    "# utc_datetime = datetime.datetime.utcnow()\n",
    "# currTimeUTC = utc_datetime.strftime(\"%Y-%m-%d %H:%M:%S\")\n",
    "# query_string += \"2017-12-19 22:00:00\"\n",
    "print(query_string)\n",
    "cur.execute(query_string)\n",
    "\n",
    "tweets = cur.fetchall()\n",
    "conn.close()\n",
    "cols = [\"ID\", \"Text\", \"Time\", \"Nouns\", \"Sentiment\"]\n",
    "tweets = pd.DataFrame(tweets, columns = cols)"
   ]
  },
  {
   "cell_type": "code",
   "execution_count": 229,
   "metadata": {
    "collapsed": false
   },
   "outputs": [
    {
     "data": {
      "text/html": [
       "<div>\n",
       "<table border=\"1\" class=\"dataframe\">\n",
       "  <thead>\n",
       "    <tr style=\"text-align: right;\">\n",
       "      <th></th>\n",
       "      <th>ID</th>\n",
       "      <th>Text</th>\n",
       "      <th>Time</th>\n",
       "      <th>Nouns</th>\n",
       "      <th>Sentiment</th>\n",
       "    </tr>\n",
       "  </thead>\n",
       "  <tbody>\n",
       "    <tr>\n",
       "      <th>count</th>\n",
       "      <td>1303</td>\n",
       "      <td>1303</td>\n",
       "      <td>1303</td>\n",
       "      <td>1303</td>\n",
       "      <td>1303</td>\n",
       "    </tr>\n",
       "    <tr>\n",
       "      <th>unique</th>\n",
       "      <td>1303</td>\n",
       "      <td>1300</td>\n",
       "      <td>348</td>\n",
       "      <td>1169</td>\n",
       "      <td>327</td>\n",
       "    </tr>\n",
       "    <tr>\n",
       "      <th>top</th>\n",
       "      <td>943228697234083840</td>\n",
       "      <td>予備校時代、英作文の問題で「覆水盆にかえらず」を「Mr.Fukusui did not go...</td>\n",
       "      <td>2017-12-19 21:00:10</td>\n",
       "      <td></td>\n",
       "      <td>0.0</td>\n",
       "    </tr>\n",
       "    <tr>\n",
       "      <th>freq</th>\n",
       "      <td>1</td>\n",
       "      <td>3</td>\n",
       "      <td>15</td>\n",
       "      <td>34</td>\n",
       "      <td>584</td>\n",
       "    </tr>\n",
       "  </tbody>\n",
       "</table>\n",
       "</div>"
      ],
      "text/plain": [
       "                        ID                                               Text  \\\n",
       "count                 1303                                               1303   \n",
       "unique                1303                                               1300   \n",
       "top     943228697234083840  予備校時代、英作文の問題で「覆水盆にかえらず」を「Mr.Fukusui did not go...   \n",
       "freq                     1                                                  3   \n",
       "\n",
       "                       Time Nouns Sentiment  \n",
       "count                  1303  1303      1303  \n",
       "unique                  348  1169       327  \n",
       "top     2017-12-19 21:00:10             0.0  \n",
       "freq                     15    34       584  "
      ]
     },
     "execution_count": 229,
     "metadata": {},
     "output_type": "execute_result"
    }
   ],
   "source": [
    "tweets.describe()"
   ]
  },
  {
   "cell_type": "code",
   "execution_count": 230,
   "metadata": {
    "collapsed": false
   },
   "outputs": [
    {
     "data": {
      "text/html": [
       "<div>\n",
       "<table border=\"1\" class=\"dataframe\">\n",
       "  <thead>\n",
       "    <tr style=\"text-align: right;\">\n",
       "      <th></th>\n",
       "      <th>ID</th>\n",
       "      <th>Text</th>\n",
       "      <th>Time</th>\n",
       "      <th>Nouns</th>\n",
       "      <th>Sentiment</th>\n",
       "    </tr>\n",
       "  </thead>\n",
       "  <tbody>\n",
       "    <tr>\n",
       "      <th>0</th>\n",
       "      <td>943237863885459457</td>\n",
       "      <td>I need a tropical vacation ASAP</td>\n",
       "      <td>2017-12-19 21:53:30</td>\n",
       "      <td>ASAP</td>\n",
       "      <td>0.0</td>\n",
       "    </tr>\n",
       "    <tr>\n",
       "      <th>1</th>\n",
       "      <td>943237871833554944</td>\n",
       "      <td>#WeMissYouMaineDay23 https://t.co/4ujpJgutbD</td>\n",
       "      <td>2017-12-19 21:53:30</td>\n",
       "      <td>WeMissYouMaineDay23</td>\n",
       "      <td>0.0</td>\n",
       "    </tr>\n",
       "    <tr>\n",
       "      <th>2</th>\n",
       "      <td>943225262409334784</td>\n",
       "      <td>Vacation In Hell : shot by me https://t.co/dnF...</td>\n",
       "      <td>2017-12-19 21:03:30</td>\n",
       "      <td>Vacation,Hell,shot</td>\n",
       "      <td>-0.6808</td>\n",
       "    </tr>\n",
       "    <tr>\n",
       "      <th>3</th>\n",
       "      <td>943226134526939136</td>\n",
       "      <td>@linuspoint @RuthDavidsonMSP Brexit is the equ...</td>\n",
       "      <td>2017-12-19 21:06:50</td>\n",
       "      <td>@linuspoint,@RuthDavidsonMSP,Brexit,cost,famil...</td>\n",
       "      <td>0.0</td>\n",
       "    </tr>\n",
       "    <tr>\n",
       "      <th>4</th>\n",
       "      <td>943224419245228033</td>\n",
       "      <td>@ExtendedStay @Chandlermom221 Where are you go...</td>\n",
       "      <td>2017-12-19 21:00:10</td>\n",
       "      <td>@ExtendedStay,@Chandlermom221,Where,year,,Sant...</td>\n",
       "      <td>0.0</td>\n",
       "    </tr>\n",
       "  </tbody>\n",
       "</table>\n",
       "</div>"
      ],
      "text/plain": [
       "                   ID                                               Text  \\\n",
       "0  943237863885459457                    I need a tropical vacation ASAP   \n",
       "1  943237871833554944       #WeMissYouMaineDay23 https://t.co/4ujpJgutbD   \n",
       "2  943225262409334784  Vacation In Hell : shot by me https://t.co/dnF...   \n",
       "3  943226134526939136  @linuspoint @RuthDavidsonMSP Brexit is the equ...   \n",
       "4  943224419245228033  @ExtendedStay @Chandlermom221 Where are you go...   \n",
       "\n",
       "                  Time                                              Nouns  \\\n",
       "0  2017-12-19 21:53:30                                               ASAP   \n",
       "1  2017-12-19 21:53:30                                WeMissYouMaineDay23   \n",
       "2  2017-12-19 21:03:30                                 Vacation,Hell,shot   \n",
       "3  2017-12-19 21:06:50  @linuspoint,@RuthDavidsonMSP,Brexit,cost,famil...   \n",
       "4  2017-12-19 21:00:10  @ExtendedStay,@Chandlermom221,Where,year,,Sant...   \n",
       "\n",
       "  Sentiment  \n",
       "0       0.0  \n",
       "1       0.0  \n",
       "2   -0.6808  \n",
       "3       0.0  \n",
       "4       0.0  "
      ]
     },
     "execution_count": 230,
     "metadata": {},
     "output_type": "execute_result"
    }
   ],
   "source": [
    "tweets.head()"
   ]
  },
  {
   "cell_type": "code",
   "execution_count": 231,
   "metadata": {
    "collapsed": true
   },
   "outputs": [],
   "source": [
    "#gather cities\n",
    "conn = psycopg2.connect(database=\"postgres\", user=\"power_user\", password=\"$poweruserpassword\", host=hosturl, port=\"5432\")\n",
    "cur = conn.cursor()\n",
    "cur.execute(\"SELECT * from worldcities\")\n",
    "\n",
    "#cities = pd.read_csv(\"cities.csv\")\n",
    "cities = cur.fetchall()\n",
    "conn.close()\n",
    "cols = [\"city\", \"city_ascii\", \"lat\", \"long\", \"pop\", \"country\", \"iso2\", \"iso3\", \"province\"]\n",
    "cities = pd.DataFrame(cities, columns = cols)"
   ]
  },
  {
   "cell_type": "code",
   "execution_count": 232,
   "metadata": {
    "collapsed": false
   },
   "outputs": [
    {
     "name": "stdout",
     "output_type": "stream",
     "text": [
      "object\n",
      "object\n",
      "float64\n",
      "float64\n",
      "object\n",
      "object\n",
      "object\n",
      "object\n",
      "object\n"
     ]
    }
   ],
   "source": [
    "cities.describe()\n",
    "cities['lat'] = pd.to_numeric(cities['lat'])\n",
    "cities['long'] = pd.to_numeric(cities['long'])\n",
    "for c in cities.columns:\n",
    "    print(cities[c].dtype)"
   ]
  },
  {
   "cell_type": "code",
   "execution_count": 233,
   "metadata": {
    "collapsed": false
   },
   "outputs": [
    {
     "name": "stdout",
     "output_type": "stream",
     "text": [
      "40.40002626 -3.683351686\n",
      "39.231296892 -4.26383970298\n",
      "39.83369563 -3.017767851\n"
     ]
    }
   ],
   "source": [
    "#Now form a df, given a city, we get its lat/long\n",
    "df_city=cities.set_index(\"city_ascii\")\n",
    "\n",
    "#Now form a df, given a country, we get its averaged lat/long\n",
    "countryLats = cities.groupby(['country'])['lat'].mean()\n",
    "countryLongs = cities.groupby(['country'])['long'].mean()\n",
    "df_country = pd.DataFrame(countryLats, columns=['lat'])\n",
    "df_country['long'] = countryLongs\n",
    "df_province.head(10)\n",
    "\n",
    "#Now form a df, given a province, we get its averaged lat/long\n",
    "provinceLats = cities.groupby(['province'])['lat'].mean()\n",
    "provinceLongs = cities.groupby(['province'])['long'].mean()\n",
    "df_province = pd.DataFrame(provinceLats, columns=['lat'])\n",
    "df_province['long'] = provinceLongs\n",
    "df_province.head(10)\n",
    "\n",
    "\n",
    "\n",
    "lat,long = df_city.loc[\"Madrid\" , [\"lat\", \"long\"]]\n",
    "print(lat,long)\n",
    "\n",
    "lat,long = df_country.loc[\"Spain\" , [\"lat\", \"long\"]]\n",
    "print(lat,long)\n",
    "\n",
    "lat,long = df_province.loc[\"Castilla-La Mancha\" , [\"lat\", \"long\"]]\n",
    "print(lat,long)"
   ]
  },
  {
   "cell_type": "code",
   "execution_count": 234,
   "metadata": {
    "collapsed": false
   },
   "outputs": [
    {
     "name": "stdout",
     "output_type": "stream",
     "text": [
      "8944\n"
     ]
    }
   ],
   "source": [
    "city_list = cities[\"city_ascii\"].tolist()\n",
    "city_set = set(city_list)\n",
    "city_list = list(city_set)\n",
    "\n",
    "country_list = cities[\"country\"].tolist()\n",
    "country_set = set(country_list)\n",
    "country_list = list(country_set)\n",
    "\n",
    "province_list = cities[\"province\"].tolist()\n",
    "province_set = set(province_list)\n",
    "province_list = list(province_set)\n",
    "\n",
    "a = province_set.union(city_set)\n",
    "locations = a.union(country_set)\n",
    "locations = list(locations)\n",
    "locations = locations[1:]\n",
    "print(len(locations))"
   ]
  },
  {
   "cell_type": "code",
   "execution_count": 235,
   "metadata": {
    "collapsed": true
   },
   "outputs": [],
   "source": [
    "def getPrintableString(inputStr):\n",
    "    printable = set(string.printable)\n",
    "    outputStr = list(filter(lambda x: x in printable, inputStr))\n",
    "    outputStr = \"\".join(outputStr)\n",
    "    return outputStr"
   ]
  },
  {
   "cell_type": "code",
   "execution_count": 236,
   "metadata": {
    "collapsed": true
   },
   "outputs": [],
   "source": [
    "def matchPlaces(text, countryList, provinceList, cityList):\n",
    "    matches = []\n",
    "    for word in text.split():\n",
    "        place,lat,long = (None,None,None)\n",
    "        match = process.extractOne(word, countryList, scorer=fuzz.ratio)\n",
    "        if match[1] > 95:\n",
    "            country = match[0]\n",
    "            lat,long = df_country.loc[country , [\"lat\", \"long\"]]\n",
    "            if isinstance(lat, float) and isinstance(long, float):\n",
    "                matches.append((country,lat,long))\n",
    "        else:\n",
    "            match = process.extractOne(word, provinceList, scorer=fuzz.ratio)\n",
    "            if match[1] > 95:\n",
    "                province = match[0]\n",
    "                lat,long = df_province.loc[province , [\"lat\", \"long\"]]\n",
    "                if isinstance(lat, float) and isinstance(long, float):\n",
    "                    matches.append((province,lat,long))\n",
    "            else:\n",
    "                match = process.extractOne(word, cityList, scorer=fuzz.ratio)\n",
    "                if match[1] > 95:\n",
    "                    city = match[0]\n",
    "                    lat,long = df_city.loc[city , [\"lat\", \"long\"]]\n",
    "                    if isinstance(lat, float) and isinstance(long, float):\n",
    "                        matches.append((city,lat,long))\n",
    "                \n",
    "                \n",
    "    return matches"
   ]
  },
  {
   "cell_type": "code",
   "execution_count": 237,
   "metadata": {
    "collapsed": true
   },
   "outputs": [],
   "source": [
    "#method to insert data\n",
    "def insertdata(data):\n",
    "    conn = psycopg2.connect(database=\"postgres\", user=\"power_user\", password=\"$poweruserpassword\", host=hosturl, port=\"5432\")\n",
    "    cur = conn.cursor()\n",
    "    cur.execute(\"INSERT INTO location_analytics (TEXT,ID, UPDATE_TIME, SENTIMENT, PLACE, LATITUDE, LONGITUDE) \\\n",
    "          VALUES (%s,%s,%s,%s,%s,%s,%s)\",(data[0],data[1],data[2],data[3],data[4],data[5],data[6]))\n",
    "    conn.commit()\n",
    "    conn.close()"
   ]
  },
  {
   "cell_type": "code",
   "execution_count": 238,
   "metadata": {
    "collapsed": false
   },
   "outputs": [
    {
     "name": "stdout",
     "output_type": "stream",
     "text": [
      "Total tweets to process: 1303\n"
     ]
    },
    {
     "name": "stderr",
     "output_type": "stream",
     "text": [
      "WARNING:root:Applied processor reduces input query to empty string, all comparisons will have score 0. [Query: '-']\n",
      "WARNING:root:Applied processor reduces input query to empty string, all comparisons will have score 0. [Query: '-']\n",
      "WARNING:root:Applied processor reduces input query to empty string, all comparisons will have score 0. [Query: '-']\n",
      "WARNING:root:Applied processor reduces input query to empty string, all comparisons will have score 0. [Query: '||']\n",
      "WARNING:root:Applied processor reduces input query to empty string, all comparisons will have score 0. [Query: '||']\n",
      "WARNING:root:Applied processor reduces input query to empty string, all comparisons will have score 0. [Query: '||']\n"
     ]
    },
    {
     "name": "stdout",
     "output_type": "stream",
     "text": [
      "['His and Her drinks by the pool on this December afternoon. A real Floridian holiday vacation! 🌴  || Photo: maragon3… https://t.co/OTrKAEJOHl', '943224435586359297', '2017-12-19 21:00:10', '0.4574', 'Pool', -4.3075928344999994, 15.023344049999999]\n",
      "Insert count =  1\n"
     ]
    },
    {
     "name": "stderr",
     "output_type": "stream",
     "text": [
      "WARNING:root:Applied processor reduces input query to empty string, all comparisons will have score 0. [Query: '+']\n",
      "WARNING:root:Applied processor reduces input query to empty string, all comparisons will have score 0. [Query: '+']\n",
      "WARNING:root:Applied processor reduces input query to empty string, all comparisons will have score 0. [Query: '+']\n",
      "WARNING:root:Applied processor reduces input query to empty string, all comparisons will have score 0. [Query: '-']\n",
      "WARNING:root:Applied processor reduces input query to empty string, all comparisons will have score 0. [Query: '-']\n",
      "WARNING:root:Applied processor reduces input query to empty string, all comparisons will have score 0. [Query: '-']\n"
     ]
    },
    {
     "name": "stdout",
     "output_type": "stream",
     "text": [
      "['@aira_fondon I’m sorry to inform you that the rest of your vacation is cancelled. It’s time for you to come back to Ohio.', '943224544290136066', '2017-12-19 21:00:40', '-0.3182', 'Ohio', 40.532618761428573, -82.797219598571431]\n",
      "Insert count =  2\n"
     ]
    },
    {
     "name": "stderr",
     "output_type": "stream",
     "text": [
      "WARNING:root:Applied processor reduces input query to empty string, all comparisons will have score 0. [Query: '+']\n",
      "WARNING:root:Applied processor reduces input query to empty string, all comparisons will have score 0. [Query: '+']\n",
      "WARNING:root:Applied processor reduces input query to empty string, all comparisons will have score 0. [Query: '+']\n"
     ]
    },
    {
     "name": "stdout",
     "output_type": "stream",
     "text": [
      "['Orlando family-friendly vacation rental! All the gear! &lt; 2 miles to #Disney! https://t.co/rLrXfjgQch #familytravel https://t.co/uQiptmKFxA', '943224595871649801', '2017-12-19 21:00:50', '0.0', 'Orlando', 28.509976829999999, -81.380030360000006]\n",
      "Insert count =  3\n",
      "['NCIS or Sanford and Son marathon. On vacation facing hard decisions.', '943224619779198976', '2017-12-19 21:00:50', '-0.1027', 'Sanford', 28.78995974, -81.279984780000007]\n",
      "Insert count =  4\n",
      "['NCIS or Sanford and Son marathon. On vacation facing hard decisions.', '943224619779198976', '2017-12-19 21:00:50', '-0.1027', 'Marathon', 48.75039512, -86.366651039999994]\n",
      "Insert count =  5\n",
      "['Vacation in Hawaii: https://t.co/xegZFMozOn via @YouTube', '943224697600307200', '2017-12-19 21:01:10', '0.0', 'Hawaii', 20.837251564999999, -157.14048821666668]\n",
      "Insert count =  6\n",
      "['Chris Martin and Dakota Johnson vacation in Paris – Wonderwall - Chris Martin and Dakota Johnson vacation in Paris… https://t.co/bcdqlkGaJH', '943224707284955136', '2017-12-19 21:01:10', '0.0', 'Paris', 48.866692929999999, 2.3333353259999998]\n",
      "Insert count =  7\n",
      "['Chris Martin and Dakota Johnson vacation in Paris – Wonderwall - Chris Martin and Dakota Johnson vacation in Paris… https://t.co/bcdqlkGaJH', '943224707284955136', '2017-12-19 21:01:10', '0.0', 'Paris', 48.866692929999999, 2.3333353259999998]\n",
      "Insert count =  8\n",
      "['What is the California law for vacation pay? My employer does not want to pay me for unused vacation pay when I qui… https://t.co/fWjdYDGUwd', '943224712888545281', '2017-12-19 21:01:20', '-0.3447', 'California', 36.567195621249994, -120.16314766041667]\n",
      "Insert count =  9\n",
      "['Are you planning a trip to Juneau? Our free Vacation Guide is the perfect tool! Find out which restaurants,... https://t.co/HrSy9DbNpx', '943224786678894599', '2017-12-19 21:01:30', '0.807', 'Juneau', 58.314126610000002, -134.419997]\n",
      "Insert count =  10\n",
      "['Are you planning a trip to Juneau? Our free Vacation Guide is the perfect tool! Find out which restaurants,... https://t.co/HrSy9DbNpx', '943224786678894599', '2017-12-19 21:01:30', '0.807', 'Guide', 36.045098289999999, 101.42418620000001]\n",
      "Insert count =  11\n",
      "['Gondola (Venice, Italy, 2017) https://t.co/gdesg4pJRF #travel #paradise #vacation https://t.co/nft4hUGBLr', '943224806341795841', '2017-12-19 21:01:40', '0.0', 'Venice', 45.438659280000003, 12.33499874]\n",
      "Insert count =  12\n",
      "['Gondola (Venice, Italy, 2017) https://t.co/gdesg4pJRF #travel #paradise #vacation https://t.co/nft4hUGBLr', '943224806341795841', '2017-12-19 21:01:40', '0.0', 'Italy', 42.367664416785722, 12.728868306178569]\n",
      "Insert count =  13\n",
      "['Paris &amp; Amsterdam make the perfect #bucketlist vacation! #EiffelTower #Notredame #Louvre #windmills #annefrankhouse… https://t.co/ugh4AAWs76', '943224814466228225', '2017-12-19 21:01:40', '0.6114', 'Paris', 48.866692929999999, 2.3333353259999998]\n",
      "Insert count =  14\n",
      "['Paris &amp; Amsterdam make the perfect #bucketlist vacation! #EiffelTower #Notredame #Louvre #windmills #annefrankhouse… https://t.co/ugh4AAWs76', '943224814466228225', '2017-12-19 21:01:40', '0.6114', 'Amsterdam', 52.349968689999997, 4.9166401760000005]\n",
      "Insert count =  15\n"
     ]
    },
    {
     "name": "stderr",
     "output_type": "stream",
     "text": [
      "WARNING:root:Applied processor reduces input query to empty string, all comparisons will have score 0. [Query: ':/']\n",
      "WARNING:root:Applied processor reduces input query to empty string, all comparisons will have score 0. [Query: ':/']\n",
      "WARNING:root:Applied processor reduces input query to empty string, all comparisons will have score 0. [Query: ':/']\n",
      "WARNING:root:Applied processor reduces input query to empty string, all comparisons will have score 0. [Query: '@']\n",
      "WARNING:root:Applied processor reduces input query to empty string, all comparisons will have score 0. [Query: '@']\n",
      "WARNING:root:Applied processor reduces input query to empty string, all comparisons will have score 0. [Query: '@']\n"
     ]
    },
    {
     "name": "stdout",
     "output_type": "stream",
     "text": [
      "['Second vacation day in Cozumel. Playing with the birds 🐦🏝 @ Cozumel, Mexico https://t.co/K3T9BRVuAi', '943224826398953472', '2017-12-19 21:01:40', '0.2023', 'Cozumel', 20.51000002, -86.950000450000005]\n",
      "Insert count =  16\n",
      "['Second vacation day in Cozumel. Playing with the birds 🐦🏝 @ Cozumel, Mexico https://t.co/K3T9BRVuAi', '943224826398953472', '2017-12-19 21:01:40', '0.2023', 'Cozumel', 20.51000002, -86.950000450000005]\n",
      "Insert count =  17\n",
      "['Second vacation day in Cozumel. Playing with the birds 🐦🏝 @ Cozumel, Mexico https://t.co/K3T9BRVuAi', '943224826398953472', '2017-12-19 21:01:40', '0.2023', 'Mexico', 22.496705073280435, -101.12578106915348]\n",
      "Insert count =  18\n",
      "['Vacation house goals 🌺 #wanderlust #greece https://t.co/5pHNyldewH', '943224968812273664', '2017-12-19 21:02:20', '0.0', 'Greece', 38.617972865666665, 23.749089734999998]\n",
      "Insert count =  19\n",
      "['Roma . ❤️ #birthday\\n.\\n.\\n. \\n#travel #traveling #italy #roma #vacation #visiting #instatravel… https://t.co/IZSSyoiAlv', '943224972331200512', '2017-12-19 21:02:20', '0.0', 'Roma', -26.559374980000001, 148.79070060000001]\n",
      "Insert count =  20\n",
      "['Roma . ❤️ #birthday\\n.\\n.\\n. \\n#travel #traveling #italy #roma #vacation #visiting #instatravel… https://t.co/IZSSyoiAlv', '943224972331200512', '2017-12-19 21:02:20', '0.0', 'Roma', -26.559374980000001, 148.79070060000001]\n",
      "Insert count =  21\n",
      "['@kinggkodaa @kinggkodaa Sounds like a plan! Is California your favorite vacation place?', '943225026412720128', '2017-12-19 21:02:30', '0.6996', 'California', 36.567195621249994, -120.16314766041667]\n",
      "Insert count =  22\n",
      "['South Miami Beach Vacation Photography Life Guard art Deco https://t.co/5yW3pIlUpj via @Etsy', '943225043403923457', '2017-12-19 21:02:30', '0.0', 'Miami', 25.787610699999998, -80.224106079999999]\n",
      "Insert count =  23\n"
     ]
    },
    {
     "name": "stderr",
     "output_type": "stream",
     "text": [
      "WARNING:root:Applied processor reduces input query to empty string, all comparisons will have score 0. [Query: '@']\n",
      "WARNING:root:Applied processor reduces input query to empty string, all comparisons will have score 0. [Query: '@']\n",
      "WARNING:root:Applied processor reduces input query to empty string, all comparisons will have score 0. [Query: '@']\n"
     ]
    },
    {
     "name": "stdout",
     "output_type": "stream",
     "text": [
      "['Just landed in Miami! #vacation', '943225097854357504', '2017-12-19 21:02:50', '0.0', 'Miami', 25.787610699999998, -80.224106079999999]\n",
      "Insert count =  24\n",
      "['Foodies Guide to the Ultimate Meal in Singapore https://t.co/J1u4yyt4tW #vacation #travel via @pickyourtrail', '943225104741285888', '2017-12-19 21:02:50', '0.0', 'Guide', 36.045098289999999, 101.42418620000001]\n",
      "Insert count =  25\n",
      "['Foodies Guide to the Ultimate Meal in Singapore https://t.co/J1u4yyt4tW #vacation #travel via @pickyourtrail', '943225104741285888', '2017-12-19 21:02:50', '0.0', 'Singapore', 1.293033466, 103.85582070000001]\n",
      "Insert count =  26\n",
      "['vacation/guilty pleasure reading: @AlishaRai https://t.co/ymYPaAiYpz', '943225170688217088', '2017-12-19 21:03:10', '0.5719', 'Reading', 51.469970719999999, -0.98002832200000001]\n",
      "Insert count =  27\n",
      "['Why do you girls have to be bitter over a man ? Smell the roses , eat some fruit , go on vacation , buy an outfit . Enjoy life sis .', '943225205387698176', '2017-12-19 21:03:10', '0.1027', 'Man', 7.4004126170000006, -7.5499890560000003]\n",
      "Insert count =  28\n",
      "['Want to see American Samoa National Park? Go free w/ Lyft app! Use Lyft Promo Code NUMB #tourist #vacation #travel #freetravel', '943225344877842437', '2017-12-19 21:03:50', '0.1923', 'Samoa', -13.84154504, -171.73864159999999]\n",
      "Insert count =  29\n",
      "['@ThomasConnorH @over23under18 @KamalaHarris And they LOOK THE SAME! I’m on vacation, why am I trying to make you se… https://t.co/MmCOZNWGfm', '943225362640719872', '2017-12-19 21:03:50', '0.0', 'Same', -4.0695849419999996, 37.720012570000002]\n",
      "Insert count =  30\n",
      "['Day Trip to Cali\\n#latepost\\n\\n#FOE #family #vacation #cali #venicebeach #goodvibes #goodtimes… https://t.co/KfOLSVn8yg', '943225417665826819', '2017-12-19 21:04:00', '0.0', 'Cali', 3.3999591260000002, -76.499966470000004]\n",
      "Insert count =  31\n",
      "['Day Trip to Cali\\n#latepost\\n\\n#FOE #family #vacation #cali #venicebeach #goodvibes #goodtimes… https://t.co/KfOLSVn8yg', '943225417665826819', '2017-12-19 21:04:00', '0.0', 'Cali', 3.3999591260000002, -76.499966470000004]\n",
      "Insert count =  32\n",
      "['@sethmoulton I think Seth needs to calm down. Maybe take another vacation to visit the Communists in Cuba with your good friend, BHO.', '943225488377630720', '2017-12-19 21:04:20', '0.8126', 'Cuba', 21.794139486538466, -79.229840592307681]\n",
      "Insert count =  33\n",
      "['Travel to Southern Italy for the Week of Your Dreams https://t.co/WuNFMjE9GK', '943225608087179266', '2017-12-19 21:04:50', '0.4019', 'Southern', -9.2801246388000003, 24.116676509999998]\n",
      "Insert count =  34\n",
      "['Travel to Southern Italy for the Week of Your Dreams https://t.co/WuNFMjE9GK', '943225608087179266', '2017-12-19 21:04:50', '0.4019', 'Italy', 42.367664416785722, 12.728868306178569]\n",
      "Insert count =  35\n",
      "['Rolling Loud Miami https://t.co/qdyMTypZr0', '943225651083055104', '2017-12-19 21:05:00', '0.0', 'Miami', 25.787610699999998, -80.224106079999999]\n",
      "Insert count =  36\n",
      "['Adulting can be exhausting and each of us dreams of having a break. Where would you like to go? Hawaii Vacation: A… https://t.co/Fx7APzQzFf', '943225678706761728', '2017-12-19 21:05:10', '0.4019', 'Hawaii', 20.837251564999999, -157.14048821666668]\n",
      "Insert count =  37\n",
      "['20 Photos Explain Why You Must Go To Fiji For Your Vacation! https://t.co/u2TMTnrbM3 #Travel #Fiji #TravelTips', '943225684612341760', '2017-12-19 21:05:10', '0.0', 'Fiji', -17.491323832500001, 178.177059375]\n",
      "Insert count =  38\n",
      "['20 Photos Explain Why You Must Go To Fiji For Your Vacation! https://t.co/u2TMTnrbM3 #Travel #Fiji #TravelTips', '943225684612341760', '2017-12-19 21:05:10', '0.0', 'Fiji', -17.491323832500001, 178.177059375]\n",
      "Insert count =  39\n",
      "['TWO MORE DAYS UNTIL VACATION AND FOR THE THIRD TIME  @NOT@FLYING TO CHICAGO FOR A MEETING', '943225786739449857', '2017-12-19 21:05:30', '0.0', 'Chicago', 41.82999066, -87.750054969999994]\n",
      "Insert count =  40\n"
     ]
    },
    {
     "name": "stderr",
     "output_type": "stream",
     "text": [
      "WARNING:root:Applied processor reduces input query to empty string, all comparisons will have score 0. [Query: '+']\n",
      "WARNING:root:Applied processor reduces input query to empty string, all comparisons will have score 0. [Query: '+']\n",
      "WARNING:root:Applied processor reduces input query to empty string, all comparisons will have score 0. [Query: '+']\n"
     ]
    },
    {
     "name": "stdout",
     "output_type": "stream",
     "text": [
      "['@TreadLightly_RE Nice!!! I unfortunately don’t have enough vacation time to take all next week off but at least it will be a 3 day week', '943225836475478017', '2017-12-19 21:05:40', '0.2677', 'Nice', 43.715017719999999, 7.2650239650000001]\n",
      "Insert count =  41\n",
      "['I just want my @FashionNova order to come in before my vacation man. I placed my order 2 weeks ago. 😩', '943226091237462016', '2017-12-19 21:06:40', '0.0772', 'Man', 7.4004126170000006, -7.5499890560000003]\n",
      "Insert count =  42\n",
      "[\"I'm in New Orleans on vacation.... Why is it im seeing news of @JoeBudden no longer being on @EverydayStrugg fuck t… https://t.co/nH4rWFqatL\", '943226094496419845', '2017-12-19 21:06:50', '-0.6908', 'Orleans', 47.90042116, 1.9000284409999999]\n",
      "Insert count =  43\n",
      "['May 5 - May 13; Family vacation in France. My aunt and uncle own a vacation house in the south of France and we try… https://t.co/jcW9glTQrd', '943226211571965952', '2017-12-19 21:07:10', '0.0', 'France', 38.551321932112664, -3.4562798112253503]\n",
      "Insert count =  44\n",
      "['May 5 - May 13; Family vacation in France. My aunt and uncle own a vacation house in the south of France and we try… https://t.co/jcW9glTQrd', '943226211571965952', '2017-12-19 21:07:10', '0.0', 'France', 38.551321932112664, -3.4562798112253503]\n",
      "Insert count =  45\n",
      "[\"Kim Kardashian West Sobs as She Fears Being Robbed on Mexico Vacation: 'We Are the Biggest Targets Ever' https://t.co/JkQQFn1TOp\", '943226234019905537', '2017-12-19 21:07:20', '-0.743', 'Mexico', 22.496705073280435, -101.12578106915348]\n",
      "Insert count =  46\n"
     ]
    },
    {
     "name": "stderr",
     "output_type": "stream",
     "text": [
      "WARNING:root:Applied processor reduces input query to empty string, all comparisons will have score 0. [Query: ':)']\n",
      "WARNING:root:Applied processor reduces input query to empty string, all comparisons will have score 0. [Query: ':)']\n",
      "WARNING:root:Applied processor reduces input query to empty string, all comparisons will have score 0. [Query: ':)']\n"
     ]
    },
    {
     "name": "stdout",
     "output_type": "stream",
     "text": [
      "['@ravishp This might interest you - for some vacation reading :) https://t.co/f0Ceg8dBcn', '943226237308276738', '2017-12-19 21:07:20', '0.7184', 'Reading', 51.469970719999999, -0.98002832200000001]\n",
      "Insert count =  47\n"
     ]
    },
    {
     "name": "stderr",
     "output_type": "stream",
     "text": [
      "WARNING:root:Applied processor reduces input query to empty string, all comparisons will have score 0. [Query: '+']\n",
      "WARNING:root:Applied processor reduces input query to empty string, all comparisons will have score 0. [Query: '+']\n",
      "WARNING:root:Applied processor reduces input query to empty string, all comparisons will have score 0. [Query: '+']\n",
      "WARNING:root:Applied processor reduces input query to empty string, all comparisons will have score 0. [Query: ';)']\n",
      "WARNING:root:Applied processor reduces input query to empty string, all comparisons will have score 0. [Query: ';)']\n",
      "WARNING:root:Applied processor reduces input query to empty string, all comparisons will have score 0. [Query: ';)']\n"
     ]
    },
    {
     "name": "stdout",
     "output_type": "stream",
     "text": [
      "['I need to get a passport ugh. My life is so boring. I’ve only ever been to 2 other countries 1. Canada (I was young… https://t.co/E6nWUxw5GG', '943226344422309888', '2017-12-19 21:07:40', '-0.6995', 'Canada', 52.959239207686316, -91.451924135137304]\n",
      "Insert count =  48\n",
      "[\"Doesn't Italy look marvelous during the night as well? I must #travel to Cinque Terre soon, and you? #vacation… https://t.co/F2OIFUhDeF\", '943226466266906626', '2017-12-19 21:08:10', '-0.3412', 'Italy', 42.367664416785722, 12.728868306178569]\n",
      "Insert count =  49\n",
      "['Plan your romantic vacation in Italy https://t.co/qZrF24ufDd', '943226642914164736', '2017-12-19 21:09:00', '0.4019', 'Italy', 42.367664416785722, 12.728868306178569]\n",
      "Insert count =  50\n",
      "['Day 1 of working with the two male managers alone while the other female manager is on vacation to a week. Lord fucking help me.', '943226666071003137', '2017-12-19 21:09:00', '0.2484', 'Male', 4.1667081899999996, 73.499947469999995]\n",
      "Insert count =  51\n",
      "['Enjoy vacation time in Cabo San Lucas #mexico with my ride or die alexismarinello ❤️ “so in love… https://t.co/adrujuqWGp', '943226779862478848', '2017-12-19 21:09:30', '-0.1779', 'San', 13.30041424, -4.9000474460000003]\n",
      "Insert count =  52\n",
      "['Enjoy vacation time in Cabo San Lucas #mexico with my ride or die alexismarinello ❤️ “so in love… https://t.co/adrujuqWGp', '943226779862478848', '2017-12-19 21:09:30', '-0.1779', 'Mexico', 22.496705073280435, -101.12578106915348]\n",
      "Insert count =  53\n"
     ]
    },
    {
     "name": "stderr",
     "output_type": "stream",
     "text": [
      "WARNING:root:Applied processor reduces input query to empty string, all comparisons will have score 0. [Query: '+']\n",
      "WARNING:root:Applied processor reduces input query to empty string, all comparisons will have score 0. [Query: '+']\n",
      "WARNING:root:Applied processor reduces input query to empty string, all comparisons will have score 0. [Query: '+']\n"
     ]
    },
    {
     "name": "stdout",
     "output_type": "stream",
     "text": [
      "[\"@SteveHelwagen True but there's nothing like the San Gabriel mountains on a cold Winter Ohio day while watching thi… https://t.co/SYe8JkOmUA\", '943226904232058880', '2017-12-19 21:10:00', '-0.1938', 'San', 13.30041424, -4.9000474460000003]\n",
      "Insert count =  54\n",
      "[\"@SteveHelwagen True but there's nothing like the San Gabriel mountains on a cold Winter Ohio day while watching thi… https://t.co/SYe8JkOmUA\", '943226904232058880', '2017-12-19 21:10:00', '-0.1938', 'Ohio', 40.532618761428573, -82.797219598571431]\n",
      "Insert count =  55\n"
     ]
    },
    {
     "name": "stderr",
     "output_type": "stream",
     "text": [
      "WARNING:root:Applied processor reduces input query to empty string, all comparisons will have score 0. [Query: '@']\n",
      "WARNING:root:Applied processor reduces input query to empty string, all comparisons will have score 0. [Query: '@']\n",
      "WARNING:root:Applied processor reduces input query to empty string, all comparisons will have score 0. [Query: '@']\n"
     ]
    },
    {
     "name": "stdout",
     "output_type": "stream",
     "text": [
      "['#prague #vacation ❄❄ @ Old Town Square Praque Czech Republic https://t.co/fifn6IfAtw', '943226924746362881', '2017-12-19 21:10:00', '0.0', 'Prague', 50.083337010000001, 14.46597978]\n",
      "Insert count =  56\n",
      "['Pop quiz: Is this image from the Oregon Coast or the middle of Bend? Get a taste of summer during your Central Oreg… https://t.co/UwpahRXjq8', '943226943155200005', '2017-12-19 21:10:10', '0.0', 'Oregon', 44.24861707611111, -121.9707884611111]\n",
      "Insert count =  57\n",
      "['Pop quiz: Is this image from the Oregon Coast or the middle of Bend? Get a taste of summer during your Central Oreg… https://t.co/UwpahRXjq8', '943226943155200005', '2017-12-19 21:10:10', '0.0', 'Coast', -3.1219494695714287, 39.718038132857146]\n",
      "Insert count =  58\n",
      "['Pop quiz: Is this image from the Oregon Coast or the middle of Bend? Get a taste of summer during your Central Oreg… https://t.co/UwpahRXjq8', '943226943155200005', '2017-12-19 21:10:10', '0.0', 'Bend', 44.071921000000003, -121.3099962]\n",
      "Insert count =  59\n",
      "['Pop quiz: Is this image from the Oregon Coast or the middle of Bend? Get a taste of summer during your Central Oreg… https://t.co/UwpahRXjq8', '943226943155200005', '2017-12-19 21:10:10', '0.0', 'Central', -12.664627521937501, 49.360646578249998]\n",
      "Insert count =  60\n",
      "['Vacation in #Shanghai #ShanghaiSohoGardenHotel starting at CNY81.10 https://t.co/nEY3DQ2It9 https://t.co/wGTlxB64vq', '943226950851497984', '2017-12-19 21:10:10', '0.0', 'Shanghai', 31.216452449999998, 121.4365047]\n",
      "Insert count =  61\n"
     ]
    },
    {
     "name": "stderr",
     "output_type": "stream",
     "text": [
      "WARNING:root:Applied processor reduces input query to empty string, all comparisons will have score 0. [Query: '|']\n",
      "WARNING:root:Applied processor reduces input query to empty string, all comparisons will have score 0. [Query: '|']\n",
      "WARNING:root:Applied processor reduces input query to empty string, all comparisons will have score 0. [Query: '|']\n"
     ]
    },
    {
     "name": "stdout",
     "output_type": "stream",
     "text": [
      "[\"Cries I'm just tryna go on vacation with my man why is everything so expensive\", '943226981835005954', '2017-12-19 21:10:20', '-0.4019', 'Man', 7.4004126170000006, -7.5499890560000003]\n",
      "Insert count =  62\n"
     ]
    },
    {
     "name": "stderr",
     "output_type": "stream",
     "text": [
      "WARNING:root:Applied processor reduces input query to empty string, all comparisons will have score 0. [Query: '@']\n",
      "WARNING:root:Applied processor reduces input query to empty string, all comparisons will have score 0. [Query: '@']\n",
      "WARNING:root:Applied processor reduces input query to empty string, all comparisons will have score 0. [Query: '@']\n"
     ]
    },
    {
     "name": "stdout",
     "output_type": "stream",
     "text": [
      "['#travelwithkids passport_kids: RT clanventure: Orlando family-friendly vacation rental! All the gear! &lt; 2 miles to… https://t.co/tcNbmO9OpE', '943227012549890050', '2017-12-19 21:10:20', '0.0', 'Orlando', 28.509976829999999, -81.380030360000006]\n",
      "Insert count =  63\n",
      "['So much for vacation...having to do a little work today, but having this little man by my feed… https://t.co/EuHJlgTn8L', '943227106753998848', '2017-12-19 21:10:50', '0.0', 'Man', 7.4004126170000006, -7.5499890560000003]\n",
      "Insert count =  64\n",
      "['3 Nights In New York City From $280 With Flights &amp; Hotel—A Brooklyn Bargain https://t.co/xR8Jp6HWi1 #flights… https://t.co/k3UjvLLm3a', '943227168078880768', '2017-12-19 21:11:00', '0.2023', 'York', 53.970386580000003, -1.0800222179999999]\n",
      "Insert count =  65\n",
      "['CHRISTMAS GIFT - FREE HOTEL ROOMS! Hawaii 7 Night Getaway https://t.co/w6yYNXaqIV #hawaii #vacation #gifts #travel… https://t.co/rtqM7pHZtH', '943227216481144832', '2017-12-19 21:11:10', '0.8384', 'Hawaii', 20.837251564999999, -157.14048821666668]\n",
      "Insert count =  66\n",
      "['Got booted from the gym, but still managed to have our gift exchange all the same! Finals and the time for a two we… https://t.co/q1jtuaFZ2R', '943227247355457536', '2017-12-19 21:11:20', '0.63', 'Same', -4.0695849419999996, 37.720012570000002]\n",
      "Insert count =  67\n",
      "['CHRISTMAS GIFT - FREE HOTEL ROOMS! ORLANDO Getaway https://t.co/w6yYNXaqIV #Orlando #FL #Florida #vacation #gifts… https://t.co/PDBNnNbKjx', '943227366456864769', '2017-12-19 21:11:50', '0.8384', 'Orlando', 28.509976829999999, -81.380030360000006]\n",
      "Insert count =  68\n",
      "['CHRISTMAS GIFT - FREE HOTEL ROOMS! ORLANDO Getaway https://t.co/w6yYNXaqIV #Orlando #FL #Florida #vacation #gifts… https://t.co/PDBNnNbKjx', '943227366456864769', '2017-12-19 21:11:50', '0.8384', 'Orlando', 28.509976829999999, -81.380030360000006]\n",
      "Insert count =  69\n",
      "['CHRISTMAS GIFT - FREE HOTEL ROOMS! ORLANDO Getaway https://t.co/w6yYNXaqIV #Orlando #FL #Florida #vacation #gifts… https://t.co/PDBNnNbKjx', '943227366456864769', '2017-12-19 21:11:50', '0.8384', 'Florida', 26.504501297948725, -81.285591428974357]\n",
      "Insert count =  70\n",
      "['FREE HOTEL ROOMS! VEGAS Getaway https://t.co/w6yYNXaqIV #Vegas #nv #Nevada #vacation #gifts #travel #resorts #cheap… https://t.co/2T7EAxxyW6', '943227431070117888', '2017-12-19 21:12:00', '0.6514', 'Nevada', 38.750333678749996, -116.906414825]\n",
      "Insert count =  71\n",
      "[\"It's 05:00 air con is set to 16° currently 25° in the room. Waking up in a pool of one's own sweat is not a vacatio… https://t.co/qtU7663fCM\", '943227452595216384', '2017-12-19 21:12:10', '0.0', 'Pool', -4.3075928344999994, 15.023344049999999]\n",
      "Insert count =  72\n",
      "['FREE HOTEL ROOMS! RENO Getaway https://t.co/w6yYNXaqIV #RENO #nv #Nevada #vacation #gifts #travel #resorts #cheap… https://t.co/xh1ATAeC6T', '943227471884947456', '2017-12-19 21:12:10', '0.6514', 'Reno', 39.529976009999999, -119.82000959999999]\n",
      "Insert count =  73\n",
      "['FREE HOTEL ROOMS! RENO Getaway https://t.co/w6yYNXaqIV #RENO #nv #Nevada #vacation #gifts #travel #resorts #cheap… https://t.co/xh1ATAeC6T', '943227471884947456', '2017-12-19 21:12:10', '0.6514', 'Reno', 39.529976009999999, -119.82000959999999]\n",
      "Insert count =  74\n",
      "['FREE HOTEL ROOMS! RENO Getaway https://t.co/w6yYNXaqIV #RENO #nv #Nevada #vacation #gifts #travel #resorts #cheap… https://t.co/xh1ATAeC6T', '943227471884947456', '2017-12-19 21:12:10', '0.6514', 'Nevada', 38.750333678749996, -116.906414825]\n",
      "Insert count =  75\n",
      "['@RealVinduSingh Nahi jhapad nahi tha WO BB jagah par shayad metro train ki announcer bol raja tha Vindu...tu tentio… https://t.co/Apdw1T5iIS', '943227515258023936', '2017-12-19 21:12:20', '0.0', 'Bol', 13.45895754, 14.714698439999999]\n",
      "Insert count =  76\n",
      "['Jack in the Box selling Qdoba for $305 million https://t.co/mQFstWKJKz #travel #colorado #vacation https://t.co/WwuHopassu', '943227520538894336', '2017-12-19 21:12:30', '0.0', 'Colorado', 39.087331196000001, -105.83227599333334]\n",
      "Insert count =  77\n",
      "['Dubai Skyline.\\n#trip #vacation #férias #dubai #love #family #emiradosarabes #skyline… https://t.co/nlc5uiWl1E', '943227554781155331', '2017-12-19 21:12:30', '0.0', 'Dubai', 25.229996150000002, 55.279974320000001]\n",
      "Insert count =  78\n",
      "['Dubai Skyline.\\n#trip #vacation #férias #dubai #love #family #emiradosarabes #skyline… https://t.co/nlc5uiWl1E', '943227554781155331', '2017-12-19 21:12:30', '0.0', 'Frias', -28.649583310000001, -65.149987429999996]\n",
      "Insert count =  79\n",
      "['Dubai Skyline.\\n#trip #vacation #férias #dubai #love #family #emiradosarabes #skyline… https://t.co/nlc5uiWl1E', '943227554781155331', '2017-12-19 21:12:30', '0.0', 'Dubai', 25.229996150000002, 55.279974320000001]\n",
      "Insert count =  80\n",
      "['Pub sign in Wales https://t.co/qwGTsjgarF #travel #paradise #vacation https://t.co/YbWorGsxeN', '943227563220111361', '2017-12-19 21:12:40', '0.0', 'Wales', 65.609598610000006, -168.08750269999999]\n",
      "Insert count =  81\n",
      "['FREE HOTEL ROOMS! BRANSON Getaway https://t.co/w6yYNXaqIV #Branson #MO #Missouri #vacation #gifts #travel #music… https://t.co/oBYXubaDbP', '943227569356378112', '2017-12-19 21:12:40', '0.6514', 'Missouri', 38.557611719999997, -92.721610828181824]\n",
      "Insert count =  82\n"
     ]
    },
    {
     "name": "stderr",
     "output_type": "stream",
     "text": [
      "WARNING:root:Applied processor reduces input query to empty string, all comparisons will have score 0. [Query: '|']\n",
      "WARNING:root:Applied processor reduces input query to empty string, all comparisons will have score 0. [Query: '|']\n",
      "WARNING:root:Applied processor reduces input query to empty string, all comparisons will have score 0. [Query: '|']\n"
     ]
    },
    {
     "name": "stdout",
     "output_type": "stream",
     "text": [
      "['CHRISTMAS GIFT - FREE HOTEL ROOMS! DAYTONA BEACH Getaway https://t.co/w6yYNXaqIV #DatoynaBeach #FL #Florida… https://t.co/eA5erV1Vk8', '943227721676664832', '2017-12-19 21:13:10', '0.8384', 'Florida', 26.504501297948725, -81.285591428974357]\n",
      "Insert count =  83\n",
      "['CHRISTMAS GIFT - FREE HOTEL ROOMS Myrtle Beach Getaway https://t.co/w6yYNXaqIV #MB #MyrtleBeach #golf #beach… https://t.co/Jgaj4Fk1iT', '943227814890885120', '2017-12-19 21:13:40', '0.8256', 'Myrtle Beach', 33.688911359999999, -78.886978400000004]\n",
      "Insert count =  84\n",
      "['CHRISTMAS GIFT - FREE HOTEL ROOMS! PALM SPRINGS Getaway https://t.co/w6yYNXaqIV #PS #CA #palmsprings #golf #beach… https://t.co/Pip0t4FK77', '943227906670686209', '2017-12-19 21:14:00', '0.8384', 'Springs', -26.26957355, 28.430036990000001]\n",
      "Insert count =  85\n",
      "['CHRISTMAS GIFT - FREE HOTEL ROOMS San Antonio Getaway https://t.co/w6yYNXaqIV #TX #SanAntonio #golf #beach… https://t.co/DK1yKqjYVS', '943227978502328322', '2017-12-19 21:14:10', '0.8256', 'San', 13.30041424, -4.9000474460000003]\n",
      "Insert count =  86\n",
      "['#vacation #house #sale #Fuji #Japan #worldtrip #hillwalking #ski #Mountain #resout #travel https://t.co/qb5E8SYH9g https://t.co/XeanOoYvc6', '943227983162089472', '2017-12-19 21:14:20', '0.0', 'Sale', -38.109574360000003, 147.06000519999998]\n",
      "Insert count =  87\n",
      "['#vacation #house #sale #Fuji #Japan #worldtrip #hillwalking #ski #Mountain #resout #travel https://t.co/qb5E8SYH9g https://t.co/XeanOoYvc6', '943227983162089472', '2017-12-19 21:14:20', '0.0', 'Japan', 36.52693533202897, 137.07060038115938]\n",
      "Insert count =  88\n",
      "['Planning a #vacation in #Rome?  You must check out our list of top hotel deals: https://t.co/raiHaGESQL #travel… https://t.co/4vRB0nqeso', '943227995065671680', '2017-12-19 21:14:20', '0.2023', 'Rome', 41.895955630000003, 12.48325842]\n",
      "Insert count =  89\n",
      "['#Hiring a FT Sr. Web Engineer in Toronto! Benefit from employee-owned #stock options, health &amp; dental coverage, cat… https://t.co/WLp0syWhLi', '943228214373208064', '2017-12-19 21:15:10', '0.5093', 'Toronto', 43.699979880000001, -79.420020789999995]\n",
      "Insert count =  90\n",
      "['@RealJamesWoods I suggest a permanent vacation for her to the lovely country of Venezuela.', '943228265216356354', '2017-12-19 21:15:20', '0.5859', 'Venezuela', 9.3678146537600018, -67.193983525400029]\n",
      "Insert count =  91\n",
      "['Gracias a la confianza que nos han brindado ustedes,  amigos, clientes y  agencias aliadas #OnVacationCreoEnTi  om… https://t.co/VxzQgM6dFy', '943228315489378305', '2017-12-19 21:15:40', '0.0', 'Gracias', 14.58330306, -88.583300510000001]\n",
      "Insert count =  92\n",
      "['Favorite alleyway in Manhattan 🚕💥 but currently in Florida for a little vacation before Christmas… https://t.co/OAwVuffhon', '943228330924486656', '2017-12-19 21:15:40', '0.25', 'Manhattan', 39.19402753, -96.592435140000006]\n",
      "Insert count =  93\n",
      "['Favorite alleyway in Manhattan 🚕💥 but currently in Florida for a little vacation before Christmas… https://t.co/OAwVuffhon', '943228330924486656', '2017-12-19 21:15:40', '0.25', 'Florida', 26.504501297948725, -81.285591428974357]\n",
      "Insert count =  94\n",
      "['Couple meditating on the beautiful Pacific Ocean at Poipu Beach, #Kauai.  #vacation #hawaii https://t.co/h02ZqD95UB', '943228465670696960', '2017-12-19 21:16:10', '0.5994', 'Hawaii', 20.837251564999999, -157.14048821666668]\n",
      "Insert count =  95\n",
      "[\"@Berfin_A_13 @1OFANARMY Same 😊 and if they only go to the Netherlands or Germany or whatever, we'll have a nice cit… https://t.co/3zKsayWxIe\", '943228549351333893', '2017-12-19 21:16:30', '0.4215', 'Same', -4.0695849419999996, 37.720012570000002]\n",
      "Insert count =  96\n",
      "[\"@Berfin_A_13 @1OFANARMY Same 😊 and if they only go to the Netherlands or Germany or whatever, we'll have a nice cit… https://t.co/3zKsayWxIe\", '943228549351333893', '2017-12-19 21:16:30', '0.4215', 'Netherlands', 52.16298845428571, 5.3181171783571433]\n",
      "Insert count =  97\n",
      "[\"@Berfin_A_13 @1OFANARMY Same 😊 and if they only go to the Netherlands or Germany or whatever, we'll have a nice cit… https://t.co/3zKsayWxIe\", '943228549351333893', '2017-12-19 21:16:30', '0.4215', 'Germany', 51.115751632631593, 9.8786198861578924]\n",
      "Insert count =  98\n",
      "['@VP @POTUS Let me fix that caption for you: Sorry young man, you will be losing your healthcare insurance, while we… https://t.co/1wlDaPkJhs', '943228786081804288', '2017-12-19 21:17:30', '-0.4404', 'Man', 7.4004126170000006, -7.5499890560000003]\n",
      "Insert count =  99\n"
     ]
    },
    {
     "name": "stderr",
     "output_type": "stream",
     "text": [
      "WARNING:root:Applied processor reduces input query to empty string, all comparisons will have score 0. [Query: '+']\n",
      "WARNING:root:Applied processor reduces input query to empty string, all comparisons will have score 0. [Query: '+']\n",
      "WARNING:root:Applied processor reduces input query to empty string, all comparisons will have score 0. [Query: '+']\n"
     ]
    },
    {
     "name": "stdout",
     "output_type": "stream",
     "text": [
      "['Same https://t.co/YPhUiRpvxo', '943228950649729030', '2017-12-19 21:18:10', '0.0', 'Same', -4.0695849419999996, 37.720012570000002]\n",
      "Insert count =  100\n",
      "['Lanesborough: Mount Greylock offers #vacation programs - Berkshire Eagle https://t.co/ElV4miX7P2 via @yeahnoworries', '943228994434027520', '2017-12-19 21:18:20', '0.0', 'Eagle', 64.787995010000003, -141.19999659999999]\n",
      "Insert count =  101\n"
     ]
    },
    {
     "name": "stderr",
     "output_type": "stream",
     "text": [
      "WARNING:root:Applied processor reduces input query to empty string, all comparisons will have score 0. [Query: '||']\n",
      "WARNING:root:Applied processor reduces input query to empty string, all comparisons will have score 0. [Query: '||']\n",
      "WARNING:root:Applied processor reduces input query to empty string, all comparisons will have score 0. [Query: '||']\n"
     ]
    },
    {
     "name": "stdout",
     "output_type": "stream",
     "text": [
      "['What are your best #traveltips for a vacation in the Maldives? #travelguide  https://t.co/20hC0mMd9F https://t.co/yqo6QMx6pw', '943229013769601024', '2017-12-19 21:18:20', '0.6369', 'Maldives', 4.1667081899999996, 73.499947469999995]\n",
      "Insert count =  102\n"
     ]
    },
    {
     "name": "stderr",
     "output_type": "stream",
     "text": [
      "WARNING:root:Applied processor reduces input query to empty string, all comparisons will have score 0. [Query: '!!!']\n",
      "WARNING:root:Applied processor reduces input query to empty string, all comparisons will have score 0. [Query: '!!!']\n",
      "WARNING:root:Applied processor reduces input query to empty string, all comparisons will have score 0. [Query: '!!!']\n"
     ]
    },
    {
     "name": "stdout",
     "output_type": "stream",
     "text": [
      "['Trying to comprehend that my vacation is over 😞.\\n\\n#firstleg #emirates #ek533 #cochin #dubai… https://t.co/mqiKyXYEO3', '943229056220389377', '2017-12-19 21:18:30', '0.0', 'Dubai', 25.229996150000002, 55.279974320000001]\n",
      "Insert count =  103\n",
      "[\"This day...until tomorrow!!!\\nChristmas Vacation in Manila!!!\\nFor 2 weeks...\\nForget and forgive is my New Year's Res… https://t.co/rYjtt7piYM\", '943229211006795776', '2017-12-19 21:19:10', '0.3331', 'Manila', 14.60415895, 120.98221720000001]\n",
      "Insert count =  104\n",
      "['#ad Vintage 80s Photo Vacation Australia Adventure Safari Tours Boat In Blue Water https://t.co/Sq3jayT2zH', '943229276366753793', '2017-12-19 21:19:20', '0.3182', 'Australia', -29.846669686964287, 140.31188983080352]\n",
      "Insert count =  105\n",
      "['#ad Vintage 80s Photo Vacation Australia Adventure Safari Tours Boat In Blue Water https://t.co/Sq3jayT2zH', '943229276366753793', '2017-12-19 21:19:20', '0.3182', 'Tours', 47.380375389999998, 0.69994665400000011]\n",
      "Insert count =  106\n"
     ]
    },
    {
     "name": "stderr",
     "output_type": "stream",
     "text": [
      "WARNING:root:Applied processor reduces input query to empty string, all comparisons will have score 0. [Query: ':)']\n",
      "WARNING:root:Applied processor reduces input query to empty string, all comparisons will have score 0. [Query: ':)']\n",
      "WARNING:root:Applied processor reduces input query to empty string, all comparisons will have score 0. [Query: ':)']\n"
     ]
    },
    {
     "name": "stdout",
     "output_type": "stream",
     "text": [
      "['Hotels in Japan\\n \\n➡ https://t.co/cdWEY97suH\\n \\n#Japan #Hotel #HotelDeals #Holiday #Travel #Traveller #Vacation #Destination', '943229517702639616', '2017-12-19 21:20:20', '0.0', 'Japan', 36.52693533202897, 137.07060038115938]\n",
      "Insert count =  107\n",
      "['Hotels in Japan\\n \\n➡ https://t.co/cdWEY97suH\\n \\n#Japan #Hotel #HotelDeals #Holiday #Travel #Traveller #Vacation #Destination', '943229517702639616', '2017-12-19 21:20:20', '0.0', 'Japan', 36.52693533202897, 137.07060038115938]\n",
      "Insert count =  108\n",
      "['Top 5 Reasons to hire a Guide London – #BlueBadgeTouristGuide while on holiday/vacation in London. #VisitLondon https://t.co/ovnvrsWUDV', '943229531762102272', '2017-12-19 21:20:20', '0.2023', 'Guide', 36.045098289999999, 101.42418620000001]\n",
      "Insert count =  109\n",
      "['Mount Snow Condo - Deer Creek (Ski Season) (W. Dover, Vermont Mt. Snow) $2500 3bd 1200ft2 https://t.co/udYxJFWmFm - #vtrealty #vacation', '943229562342793216', '2017-12-19 21:20:30', '0.0', 'Vermont', 44.367884849999996, -72.894140054999994]\n",
      "Insert count =  110\n",
      "['@natasharesists @SenatorCollins Boycott Maine businesses. Boycott @amazon accounts and @ebay accounts.  Ask if prod… https://t.co/jjt4fLo8NG', '943229579291971584', '2017-12-19 21:20:40', '-0.5574', 'Maine', 44.878809346666657, -68.883728615555555]\n",
      "Insert count =  111\n"
     ]
    },
    {
     "name": "stderr",
     "output_type": "stream",
     "text": [
      "WARNING:root:Applied processor reduces input query to empty string, all comparisons will have score 0. [Query: '**']\n",
      "WARNING:root:Applied processor reduces input query to empty string, all comparisons will have score 0. [Query: '**']\n",
      "WARNING:root:Applied processor reduces input query to empty string, all comparisons will have score 0. [Query: '**']\n"
     ]
    },
    {
     "name": "stdout",
     "output_type": "stream",
     "text": [
      "['Flying over the French Alps France https://t.co/VNH7Qcro3G #travel #paradise #vacation https://t.co/XkadZOmsoF', '943229797613932544', '2017-12-19 21:21:30', '0.0', 'France', 38.551321932112664, -3.4562798112253503]\n",
      "Insert count =  112\n",
      "['Flying over the French Alps France https://t.co/zbnGRKd62w #travel #paradise #vacation https://t.co/wc7UkzgKO6', '943229804807155712', '2017-12-19 21:21:30', '0.0', 'France', 38.551321932112664, -3.4562798112253503]\n",
      "Insert count =  113\n",
      "['Sea World San Antonio ✔\\nAlamo✔\\nRiver Walk✔\\nFranklin BBQ-Nope 2 1/2hr wait.\\nMagnolia Silios (Wife)✔\\nPrett good pre-Christmas Vacation.', '943229820762251264', '2017-12-19 21:21:30', '0.4404', 'San', 13.30041424, -4.9000474460000003]\n",
      "Insert count =  114\n",
      "[\"i'm hoping i get a lot of reading and writing done but chances are it'll be a struggle to just get through vacation… https://t.co/Y4q9F1BRM9\", '943230018376884224', '2017-12-19 21:22:20', '0.0387', 'Reading', 51.469970719999999, -0.98002832200000001]\n",
      "Insert count =  115\n",
      "['@ExtendedStay A10: to be honest, Florida, I want to visit the beach and amusement parks! We would have a great family vacation #SantaChat', '943230017848389632', '2017-12-19 21:22:20', '0.8883', 'Florida', 26.504501297948725, -81.285591428974357]\n",
      "Insert count =  116\n"
     ]
    },
    {
     "name": "stderr",
     "output_type": "stream",
     "text": [
      "WARNING:root:Applied processor reduces input query to empty string, all comparisons will have score 0. [Query: '|']\n",
      "WARNING:root:Applied processor reduces input query to empty string, all comparisons will have score 0. [Query: '|']\n",
      "WARNING:root:Applied processor reduces input query to empty string, all comparisons will have score 0. [Query: '|']\n"
     ]
    },
    {
     "name": "stdout",
     "output_type": "stream",
     "text": [
      "['#Vacation #Medellín #Colombia #photoman666 https://t.co/FqkoSpZnzE', '943230197373030400', '2017-12-19 21:23:00', '0.0', 'Colombia', 5.9078160614722206, -74.656765479305562]\n",
      "Insert count =  117\n",
      "['Final Chapter of this Florida Vacation Vlog. Thanks for watching. Subscribe for Christmas Vlog https://t.co/9EhQyIURhN', '943230306815004674', '2017-12-19 21:23:30', '0.4404', 'Florida', 26.504501297948725, -81.285591428974357]\n",
      "Insert count =  118\n"
     ]
    },
    {
     "name": "stderr",
     "output_type": "stream",
     "text": [
      "WARNING:root:Applied processor reduces input query to empty string, all comparisons will have score 0. [Query: '|']\n",
      "WARNING:root:Applied processor reduces input query to empty string, all comparisons will have score 0. [Query: '|']\n",
      "WARNING:root:Applied processor reduces input query to empty string, all comparisons will have score 0. [Query: '|']\n"
     ]
    },
    {
     "name": "stdout",
     "output_type": "stream",
     "text": [
      "['Hotels in Paris\\n\\n➡➡ https://t.co/RzSpSK6KUa\\n\\n#Paris #France #Travel #Holiday #Vacation #Destination #HotelDeals #Traveller', '943230369104404480', '2017-12-19 21:23:40', '0.0', 'Paris', 48.866692929999999, 2.3333353259999998]\n",
      "Insert count =  119\n",
      "['Hotels in Paris\\n\\n➡➡ https://t.co/RzSpSK6KUa\\n\\n#Paris #France #Travel #Holiday #Vacation #Destination #HotelDeals #Traveller', '943230369104404480', '2017-12-19 21:23:40', '0.0', 'Paris', 48.866692929999999, 2.3333353259999998]\n",
      "Insert count =  120\n",
      "['Hotels in Paris\\n\\n➡➡ https://t.co/RzSpSK6KUa\\n\\n#Paris #France #Travel #Holiday #Vacation #Destination #HotelDeals #Traveller', '943230369104404480', '2017-12-19 21:23:40', '0.0', 'France', 38.551321932112664, -3.4562798112253503]\n",
      "Insert count =  121\n",
      "['Richmond BBQ is still my fav on the east coast.  Only down side is it appears fellow Blue Hen @hardlyworkin950 is a… https://t.co/0TjQX9I3mm', '943230618409857024', '2017-12-19 21:24:40', '0.4588', 'Coast', -3.1219494695714287, 39.718038132857146]\n",
      "Insert count =  122\n",
      "['Who wants to go on a vacation with me to Wisconsin? I’ll show you what’s so amazing about a small town 😉', '943230639284932608', '2017-12-19 21:24:50', '0.7065', 'Wisconsin', 44.074437355555553, -89.093982416111132]\n",
      "Insert count =  123\n",
      "['Gary on vacation and had no part of that KRON segment but people still sending the hate to him lol. Darya and Henry… https://t.co/rPJCW1UEAe', '943230685057245184', '2017-12-19 21:25:00', '-0.4497', 'Gary', 41.580393489999999, -87.330003090000005]\n",
      "Insert count =  124\n",
      "['Ik vind een @YouTube-video leuk: https://t.co/Zug3MmD6Ag VLOG 34: WHAT I EAT ON MY VACATION? - Lisa van Cuijk', '943230692196003841', '2017-12-19 21:25:00', '0.0', 'Van', 38.495439679999997, 43.399975949999998]\n",
      "Insert count =  125\n"
     ]
    },
    {
     "name": "stderr",
     "output_type": "stream",
     "text": [
      "WARNING:root:Applied processor reduces input query to empty string, all comparisons will have score 0. [Query: '|']\n",
      "WARNING:root:Applied processor reduces input query to empty string, all comparisons will have score 0. [Query: '|']\n",
      "WARNING:root:Applied processor reduces input query to empty string, all comparisons will have score 0. [Query: '|']\n"
     ]
    },
    {
     "name": "stdout",
     "output_type": "stream",
     "text": [
      "['With a record deficit and $15 trillion in debt, @realdonaldtrump is spending $4 million of our money on his Hawaii… https://t.co/NURJe4ctHh', '943230843128045575', '2017-12-19 21:25:40', '-0.6369', 'Hawaii', 20.837251564999999, -157.14048821666668]\n",
      "Insert count =  126\n",
      "['Enterprise Rent-A-Car pulls into Haliburton https://t.co/LvldwtRcVi #usa #vacation #travel', '943230883523452928', '2017-12-19 21:25:50', '0.0', 'Enterprise', 31.32781516, -85.843995609999993]\n",
      "Insert count =  127\n",
      "['@mamalovesparis Do you have recommended websites/companies for vacation rentals in Paris?', '943230910429908992', '2017-12-19 21:25:50', '0.2023', 'Paris', 48.866692929999999, 2.3333353259999998]\n",
      "Insert count =  128\n"
     ]
    },
    {
     "name": "stderr",
     "output_type": "stream",
     "text": [
      "WARNING:root:Applied processor reduces input query to empty string, all comparisons will have score 0. [Query: '|']\n",
      "WARNING:root:Applied processor reduces input query to empty string, all comparisons will have score 0. [Query: '|']\n",
      "WARNING:root:Applied processor reduces input query to empty string, all comparisons will have score 0. [Query: '|']\n"
     ]
    },
    {
     "name": "stdout",
     "output_type": "stream",
     "text": [
      "['Vancouver Vacation Travel Guide | Expedia https://t.co/HetfzCcEOA @YouTube aracılığıyla', '943230922127822853', '2017-12-19 21:26:00', '0.0', 'Guide', 36.045098289999999, 101.42418620000001]\n",
      "Insert count =  129\n",
      "['i thought we finally escaped vegas prison only for this bitch to be going back in 2019 after a year long vacation in Hawaii', '943231481060646912', '2017-12-19 21:28:10', '-0.8316', 'Hawaii', 20.837251564999999, -157.14048821666668]\n",
      "Insert count =  130\n",
      "['Stopped by BSA Aloha Council in Hilo yesterday! Love the slogan! #shakaforscouting #vacation 🏝🤙… https://t.co/5BJPZZaY17', '943231501604458499', '2017-12-19 21:28:10', '0.5972', 'Hilo', 19.69999778, -155.0900273]\n",
      "Insert count =  131\n",
      "['@bvffalo_bill Pretty down to see Alan and Charlotte little dragon max Chapman other than that I look at it as a dope vacation', '943231677026910209', '2017-12-19 21:29:00', '0.4939', 'Charlotte', 35.20499453, -80.830038090000002]\n",
      "Insert count =  132\n",
      "['@TheGingerMinj A vacation to Tokyo, Japan with my sweetheart...always wanted to go there', '943231807440478215', '2017-12-19 21:29:30', '0.0', 'Tokyo', 35.671361410000003, 139.53873304999999]\n",
      "Insert count =  133\n",
      "['@TheGingerMinj A vacation to Tokyo, Japan with my sweetheart...always wanted to go there', '943231807440478215', '2017-12-19 21:29:30', '0.0', 'Japan', 36.52693533202897, 137.07060038115938]\n",
      "Insert count =  134\n",
      "['@hodgman @SenatorCollins If any of us who live in NY, NJ, California, and other high tax states, can still afford t… https://t.co/46Wb19l4IS', '943231814193295360', '2017-12-19 21:29:30', '0.0', 'California', 36.567195621249994, -120.16314766041667]\n",
      "Insert count =  135\n"
     ]
    },
    {
     "name": "stderr",
     "output_type": "stream",
     "text": [
      "WARNING:root:Applied processor reduces input query to empty string, all comparisons will have score 0. [Query: '\"']\n",
      "WARNING:root:Applied processor reduces input query to empty string, all comparisons will have score 0. [Query: '\"']\n",
      "WARNING:root:Applied processor reduces input query to empty string, all comparisons will have score 0. [Query: '\"']\n"
     ]
    },
    {
     "name": "stdout",
     "output_type": "stream",
     "text": [
      "['My father was a hard working man. He put his family before himself. He would work overtime just so we could afford… https://t.co/220q1HX2to', '943231935777792000', '2017-12-19 21:30:00', '-0.1027', 'Man', 7.4004126170000006, -7.5499890560000003]\n",
      "Insert count =  136\n",
      "['Travel to Orlando and book a trip with great vacation packages found at the end of this… https://t.co/110lUeaPax https://t.co/pfZAzIXFYt', '943231990823817218', '2017-12-19 21:30:10', '0.6249', 'Orlando', 28.509976829999999, -81.380030360000006]\n",
      "Insert count =  137\n",
      "['Need a vacation? At Taj Lake Palace in Udaipur, #India, you can float all your cares awa... https://t.co/QZpExQVGqd https://t.co/MAo8C6taCs', '943232048281481216', '2017-12-19 21:30:30', '0.4588', 'Udaipur', 24.599982929999999, 73.73001094]\n",
      "Insert count =  138\n",
      "['Need a vacation? At Taj Lake Palace in Udaipur, #India, you can float all your cares awa... https://t.co/QZpExQVGqd https://t.co/MAo8C6taCs', '943232048281481216', '2017-12-19 21:30:30', '0.4588', 'India', 21.680074161768871, 79.274423904198088]\n",
      "Insert count =  139\n",
      "['Our fantastic long weekend in Sanibel, Florida with th https://t.co/5QP37RXOsb #travel #family #vacation #lovelaughcaribbean', '943232068032651265', '2017-12-19 21:30:30', '0.5574', 'Florida', 26.504501297948725, -81.285591428974357]\n",
      "Insert count =  140\n",
      "['also surprise i’m gonna be in hong kong and china for the next two ish weeks for vacation!! so i probably won’t be… https://t.co/fhENGYhmhI', '943232151683657728', '2017-12-19 21:30:50', '0.3987', 'China', 35.389668289700005, 114.002471625175]\n",
      "Insert count =  141\n",
      "['Everybody calling and texting me like where you at 😂 .. first of all, I’m at home. Lol I haven’t left Atlanta, dang… https://t.co/b8ETrWe42B', '943232515145334785', '2017-12-19 21:32:20', '0.6486', 'Atlanta', 33.83001385, -84.399949379999995]\n",
      "Insert count =  142\n"
     ]
    },
    {
     "name": "stderr",
     "output_type": "stream",
     "text": [
      "WARNING:root:Applied processor reduces input query to empty string, all comparisons will have score 0. [Query: ':)']\n",
      "WARNING:root:Applied processor reduces input query to empty string, all comparisons will have score 0. [Query: ':)']\n",
      "WARNING:root:Applied processor reduces input query to empty string, all comparisons will have score 0. [Query: ':)']\n"
     ]
    },
    {
     "name": "stdout",
     "output_type": "stream",
     "text": [
      "['Just bought tickets to Hawaii. Vacation next month can not come any sooner https://t.co/NjnYNIbqnW', '943232538624978945', '2017-12-19 21:32:20', '0.0', 'Hawaii', 20.837251564999999, -157.14048821666668]\n",
      "Insert count =  143\n",
      "[\"After the travesty @Disney Trump animatronic, I'll be foregoing my $3K Disney vacation this year and taking my son to Japan instead.\", '943232608024039424', '2017-12-19 21:32:40', '-0.5719', 'Japan', 36.52693533202897, 137.07060038115938]\n",
      "Insert count =  144\n",
      "['“Lena &amp; Fran, from Hamburg &amp; Caracas” \\nTHANKS and MERRY CHRISTMAS!!!\\nYEAR 2018 OPEN FOR BOOKINGS!\\n#jrdbcn… https://t.co/ul7oeoILoC', '943232611928952832', '2017-12-19 21:32:40', '0.876', 'Hamburg', 53.550024639999997, 9.9999991440000002]\n",
      "Insert count =  145\n",
      "['“Lena &amp; Fran, from Hamburg &amp; Caracas” \\nTHANKS and MERRY CHRISTMAS!!!\\nYEAR 2018 OPEN FOR BOOKINGS!\\n#jrdbcn… https://t.co/ul7oeoILoC', '943232611928952832', '2017-12-19 21:32:40', '0.876', 'Caracas', 10.50099855, -66.917037190000002]\n",
      "Insert count =  146\n"
     ]
    },
    {
     "name": "stderr",
     "output_type": "stream",
     "text": [
      "WARNING:root:Applied processor reduces input query to empty string, all comparisons will have score 0. [Query: '//']\n",
      "WARNING:root:Applied processor reduces input query to empty string, all comparisons will have score 0. [Query: '//']\n",
      "WARNING:root:Applied processor reduces input query to empty string, all comparisons will have score 0. [Query: '//']\n",
      "WARNING:root:Applied processor reduces input query to empty string, all comparisons will have score 0. [Query: '//']\n",
      "WARNING:root:Applied processor reduces input query to empty string, all comparisons will have score 0. [Query: '//']\n",
      "WARNING:root:Applied processor reduces input query to empty string, all comparisons will have score 0. [Query: '//']\n"
     ]
    },
    {
     "name": "stdout",
     "output_type": "stream",
     "text": [
      "['From the archives of #travelblogrepeat: Road Trips and I - An https://t.co/TqufhbAazL #adventure #california… https://t.co/kz1FM4glcC', '943232889516326912', '2017-12-19 21:33:50', '0.0', 'California', 36.567195621249994, -120.16314766041667]\n",
      "Insert count =  147\n",
      "['How a 1960 Cadillac Lets a Racer Slow Down https://t.co/zqI2hlfuoI #vacation #travel #holiday https://t.co/eJCIFoOFuN', '943233057431093248', '2017-12-19 21:34:30', '0.0', 'Cadillac', 44.251212379999998, -85.413608440000004]\n",
      "Insert count =  148\n"
     ]
    },
    {
     "name": "stderr",
     "output_type": "stream",
     "text": [
      "WARNING:root:Applied processor reduces input query to empty string, all comparisons will have score 0. [Query: '=)']\n",
      "WARNING:root:Applied processor reduces input query to empty string, all comparisons will have score 0. [Query: '=)']\n",
      "WARNING:root:Applied processor reduces input query to empty string, all comparisons will have score 0. [Query: '=)']\n"
     ]
    },
    {
     "name": "stdout",
     "output_type": "stream",
     "text": [
      "['Lol chill be like Facardi chop some big Man for there. https://t.co/VudwrI2y6z', '943233089345552385', '2017-12-19 21:34:30', '0.6486', 'Man', 7.4004126170000006, -7.5499890560000003]\n",
      "Insert count =  149\n",
      "[\"My dad is saying that we're going to either florida or utah over spring break (to see family) but we haven't been o… https://t.co/TM4XLwTucY\", '943233090247446528', '2017-12-19 21:34:30', '0.0', 'Florida', 26.504501297948725, -81.285591428974357]\n",
      "Insert count =  150\n",
      "[\"My dad is saying that we're going to either florida or utah over spring break (to see family) but we haven't been o… https://t.co/TM4XLwTucY\", '943233090247446528', '2017-12-19 21:34:30', '0.0', 'Utah', 39.189083197857137, -111.6081981857143]\n",
      "Insert count =  151\n",
      "['Home for some vacation and xmas — traveling to Atlanta airport from BWI Thurgood Marshall Airport (BWI) https://t.co/iAWa5RDWZZ', '943233176327147520', '2017-12-19 21:34:50', '0.0', 'Atlanta', 33.83001385, -84.399949379999995]\n",
      "Insert count =  152\n",
      "['Vacation Mogul HD 1.1 Device: iOS iPad Only Category: Games Price: $1.99 -&gt; $.99… https://t.co/FSOl0C2C6q #freeelsa', '943233206731661314', '2017-12-19 21:35:00', '0.0', 'Price', 39.59979087, -110.81001689999999]\n",
      "Insert count =  153\n",
      "['Tour guide in Georgia to enjoy your vacation #SS11 https://t.co/ohl81YC6fi', '943233274004103169', '2017-12-19 21:35:20', '0.4939', 'Guide', 36.045098289999999, 101.42418620000001]\n",
      "Insert count =  154\n",
      "['Tour guide in Georgia to enjoy your vacation #SS11 https://t.co/ohl81YC6fi', '943233274004103169', '2017-12-19 21:35:20', '0.4939', 'Georgia', 42.079078445714288, 42.981064644285716]\n",
      "Insert count =  155\n",
      "['Chris Martin and Dakota Johnson vacation in Paris https://t.co/iAltrA7BTK', '943233573028618240', '2017-12-19 21:36:30', '0.0', 'Paris', 48.866692929999999, 2.3333353259999998]\n",
      "Insert count =  156\n",
      "['I want to go on a real vacation. As much as I love going to Portland I really want to go another country.', '943233635368386560', '2017-12-19 21:36:40', '0.7003', 'Portland', 18.159003139999999, -76.380002619999999]\n",
      "Insert count =  157\n"
     ]
    },
    {
     "name": "stderr",
     "output_type": "stream",
     "text": [
      "WARNING:root:Applied processor reduces input query to empty string, all comparisons will have score 0. [Query: '~']\n",
      "WARNING:root:Applied processor reduces input query to empty string, all comparisons will have score 0. [Query: '~']\n",
      "WARNING:root:Applied processor reduces input query to empty string, all comparisons will have score 0. [Query: '~']\n"
     ]
    },
    {
     "name": "stdout",
     "output_type": "stream",
     "text": [
      "['Chris Martin and Dakota Johnson vacation in Paris #today https://t.co/NUPrmZOZbA https://t.co/SQvM2SgeSh', '943233783876157442', '2017-12-19 21:37:20', '0.0', 'Paris', 48.866692929999999, 2.3333353259999998]\n",
      "Insert count =  158\n",
      "['@PTXofficial Y’all are soooo adorable!!!! Love you guys!!!  A couple of our favorites around here are Christmas Vac… https://t.co/PsWNF8H88X', '943233854420242432', '2017-12-19 21:37:40', '0.8469', 'Vac', 47.783658260000003, 19.133240109999999]\n",
      "Insert count =  159\n",
      "[\"Gesu Honduras Immersion 2018 \\nBefore you leave for Christmas Vacation, don't forget to fill out your application! Y… https://t.co/fZlgG7I4GU\", '943234009903124483', '2017-12-19 21:38:10', '0.1921', 'Honduras', 14.786617175263158, -87.16362468894738]\n",
      "Insert count =  160\n",
      "['Congrats ms. @JodiStaMaria . Ang galing nyo po.  Dapat talaga na maging inspiration ka ng marami.at isa na po ako d… https://t.co/zfNjlGAGzL', '943234161900322816', '2017-12-19 21:38:50', '-0.1027', 'Po', 11.16900002, -1.134998478]\n",
      "Insert count =  161\n",
      "['Just a beautiful shot 😏😍😙@brockohurn #brockohurn #vacation #vacamode #jacksonhole #wyoming… https://t.co/dVJsVNhMdK', '943234364946739201', '2017-12-19 21:39:40', '0.5994', 'Wyoming', 42.870990858333336, -107.28914010000001]\n",
      "Insert count =  162\n",
      "['@Lydia0032 Same until im on vacation and enjoying the peace and quiet', '943234442201575424', '2017-12-19 21:40:00', '0.7845', 'Same', -4.0695849419999996, 37.720012570000002]\n",
      "Insert count =  163\n",
      "['Assistant Sales Manager - Washington, DC, , USA #jobs #Washington pls RT: Job Description:What are we looking for?… https://t.co/Fr3GWtw1pj', '943234514746163200', '2017-12-19 21:40:10', '0.0772', 'Washington', 46.989877703125003, -121.40190008124999]\n",
      "Insert count =  164\n",
      "['Assistant Sales Manager - Washington, DC, , USA #jobs #Washington pls RT: Job Description:What are we looking for?… https://t.co/Fr3GWtw1pj', '943234514746163200', '2017-12-19 21:40:10', '0.0772', 'Washington', 46.989877703125003, -121.40190008124999]\n",
      "Insert count =  165\n",
      "['New #ontheblog // The Ultimate #Malaga History &amp; Food Experience with @welovemalaga  https://t.co/1Bzet1DDeX… https://t.co/phS0mmt7T5', '943234519028633611', '2017-12-19 21:40:10', '0.0', 'Malaga', 36.720405900000003, -4.419999228]\n",
      "Insert count =  166\n"
     ]
    },
    {
     "name": "stderr",
     "output_type": "stream",
     "text": [
      "WARNING:root:Applied processor reduces input query to empty string, all comparisons will have score 0. [Query: '|']\n",
      "WARNING:root:Applied processor reduces input query to empty string, all comparisons will have score 0. [Query: '|']\n",
      "WARNING:root:Applied processor reduces input query to empty string, all comparisons will have score 0. [Query: '|']\n"
     ]
    },
    {
     "name": "stdout",
     "output_type": "stream",
     "text": [
      "['Now Booking Vacation Packages to #Italy including #Flights + #Hotels from under $1000 USD! \\xa0https://t.co/DB2g3fH0B8', '943234531309563909', '2017-12-19 21:40:20', '0.0', 'Italy', 42.367664416785722, 12.728868306178569]\n",
      "Insert count =  167\n",
      "['Amazing time at San Diego, very need vacation! Now back home ready for Christmas ❤️', '943234691859021824', '2017-12-19 21:41:00', '0.7644', 'San', 13.30041424, -4.9000474460000003]\n",
      "Insert count =  168\n",
      "['Vacation in #Guilin #GuilinOasisInn starting at CNY24.32 https://t.co/3SUa3TzBa8 https://t.co/Np6nd5Hgne', '943234703397490688', '2017-12-19 21:41:00', '0.0', 'Guilin', 25.279993100000002, 110.280028]\n",
      "Insert count =  169\n",
      "['So great to had you in our tour! 😍 RT @foodiemtfitness: New #ontheblog // The Ultimate #Malaga History &amp; Food Exper… https://t.co/g0AWNPedmj', '943234759861460992', '2017-12-19 21:41:10', '0.6893', 'Malaga', 36.720405900000003, -4.419999228]\n",
      "Insert count =  170\n",
      "['@1_i_am_nicky @mikeyboy013 @Semloveboys100 Enjoy your vacation Jordan!', '943234801250783233', '2017-12-19 21:41:20', '0.5411', 'Jordan', 31.403326518888882, 35.773583878888886]\n",
      "Insert count =  171\n",
      "['Dallas Vacation and ya girl is broke I spent so much money on food', '943234914488635393', '2017-12-19 21:41:50', '-0.4215', 'Dallas', 32.820023820000003, -96.840016930000004]\n",
      "Insert count =  172\n",
      "['#TheBeatles on vacation in a Bel-Air Mansion in Los Angeles before their show at The Hollywood Bowl, August 1964 https://t.co/dvYSzxDD9A', '943234960252645383', '2017-12-19 21:42:00', '0.0', 'Angeles', 15.14505617, 120.5450862]\n",
      "Insert count =  173\n",
      "['Home for 10 days... then finally taking a much needed vacation 😍 #resort #Cancun #familyvacation', '943235195368558597', '2017-12-19 21:43:00', '0.0', 'Cancun', 21.169959739999999, -86.830007769999995]\n",
      "Insert count =  174\n"
     ]
    },
    {
     "name": "stderr",
     "output_type": "stream",
     "text": [
      "WARNING:root:Applied processor reduces input query to empty string, all comparisons will have score 0. [Query: '!!!!!!!']\n",
      "WARNING:root:Applied processor reduces input query to empty string, all comparisons will have score 0. [Query: '!!!!!!!']\n",
      "WARNING:root:Applied processor reduces input query to empty string, all comparisons will have score 0. [Query: '!!!!!!!']\n",
      "WARNING:root:Applied processor reduces input query to empty string, all comparisons will have score 0. [Query: '|']\n",
      "WARNING:root:Applied processor reduces input query to empty string, all comparisons will have score 0. [Query: '|']\n",
      "WARNING:root:Applied processor reduces input query to empty string, all comparisons will have score 0. [Query: '|']\n",
      "WARNING:root:Applied processor reduces input query to empty string, all comparisons will have score 0. [Query: '|']\n",
      "WARNING:root:Applied processor reduces input query to empty string, all comparisons will have score 0. [Query: '|']\n",
      "WARNING:root:Applied processor reduces input query to empty string, all comparisons will have score 0. [Query: '|']\n",
      "WARNING:root:Applied processor reduces input query to empty string, all comparisons will have score 0. [Query: '|']\n",
      "WARNING:root:Applied processor reduces input query to empty string, all comparisons will have score 0. [Query: '|']\n",
      "WARNING:root:Applied processor reduces input query to empty string, all comparisons will have score 0. [Query: '|']\n",
      "WARNING:root:Applied processor reduces input query to empty string, all comparisons will have score 0. [Query: '|']\n",
      "WARNING:root:Applied processor reduces input query to empty string, all comparisons will have score 0. [Query: '|']\n",
      "WARNING:root:Applied processor reduces input query to empty string, all comparisons will have score 0. [Query: '|']\n"
     ]
    },
    {
     "name": "stdout",
     "output_type": "stream",
     "text": [
      "['#vacation #house #sale #Fuji #Japan #worldtrip #hillwalking #ski #Mountain #resout #travel https://t.co/qb5E8SYH9g https://t.co/T9ZMMo7D0D', '943235388667076608', '2017-12-19 21:43:40', '0.0', 'Sale', -38.109574360000003, 147.06000519999998]\n",
      "Insert count =  175\n",
      "['#vacation #house #sale #Fuji #Japan #worldtrip #hillwalking #ski #Mountain #resout #travel https://t.co/qb5E8SYH9g https://t.co/T9ZMMo7D0D', '943235388667076608', '2017-12-19 21:43:40', '0.0', 'Japan', 36.52693533202897, 137.07060038115938]\n",
      "Insert count =  176\n",
      "['Act now for #CaveCreekCabin a 3BR, 2BA A-frame cabin where you can have an enjoyable vacation in #Spencer,… https://t.co/BvxY4mwDyR', '943235575548653568', '2017-12-19 21:44:30', '0.4404', 'Spencer', 43.145285049999998, -95.147174519999993]\n",
      "Insert count =  177\n",
      "[\"@Dat_Bitch_CeCe6 Swear lol? Same here lmao 😂😂 but i don't wanna come there and your on vacation in a different country 😂🙄❤️😍\", '943235498608349185', '2017-12-19 21:44:30', '0.5023', 'Same', -4.0695849419999996, 37.720012570000002]\n",
      "Insert count =  178\n",
      "['Blockbuster (or “location-based”) larps cost somewhere between $500-700 a ticket these days, meaning that the price… https://t.co/oLMnswq0Nr', '943235581198336000', '2017-12-19 21:44:30', '0.5994', 'Price', 39.59979087, -110.81001689999999]\n",
      "Insert count =  179\n"
     ]
    },
    {
     "name": "stderr",
     "output_type": "stream",
     "text": [
      "WARNING:root:Applied processor reduces input query to empty string, all comparisons will have score 0. [Query: '!!!']\n",
      "WARNING:root:Applied processor reduces input query to empty string, all comparisons will have score 0. [Query: '!!!']\n",
      "WARNING:root:Applied processor reduces input query to empty string, all comparisons will have score 0. [Query: '!!!']\n",
      "WARNING:root:Applied processor reduces input query to empty string, all comparisons will have score 0. [Query: ':)']\n",
      "WARNING:root:Applied processor reduces input query to empty string, all comparisons will have score 0. [Query: ':)']\n",
      "WARNING:root:Applied processor reduces input query to empty string, all comparisons will have score 0. [Query: ':)']\n",
      "WARNING:root:Applied processor reduces input query to empty string, all comparisons will have score 0. [Query: '!!!']\n",
      "WARNING:root:Applied processor reduces input query to empty string, all comparisons will have score 0. [Query: '!!!']\n",
      "WARNING:root:Applied processor reduces input query to empty string, all comparisons will have score 0. [Query: '!!!']\n"
     ]
    },
    {
     "name": "stdout",
     "output_type": "stream",
     "text": [
      "['@engiisuschrist What?  I literally have a trip planned for 2019.  I think Ireland, Scotland, and Germany.  I have d… https://t.co/FCYPAmBQdY', '943235642728820736', '2017-12-19 21:44:40', '0.0', 'Ireland', 53.174841580666673, -7.9595074963333339]\n",
      "Insert count =  180\n",
      "['@engiisuschrist What?  I literally have a trip planned for 2019.  I think Ireland, Scotland, and Germany.  I have d… https://t.co/FCYPAmBQdY', '943235642728820736', '2017-12-19 21:44:40', '0.0', 'Germany', 51.115751632631593, 9.8786198861578924]\n",
      "Insert count =  181\n",
      "['My short vacation starts now. Hello Marinduque. Goodbye Manila for now. 😊😘😍😁❤️', '943235813302611968', '2017-12-19 21:45:20', '0.0', 'Manila', 14.60415895, 120.98221720000001]\n",
      "Insert count =  182\n",
      "['Man, this vacation is really bad for me :P https://t.co/GtPhg60rpP', '943235915278938113', '2017-12-19 21:45:50', '-0.168', 'Man', 7.4004126170000006, -7.5499890560000003]\n",
      "Insert count =  183\n",
      "['Melbourne fashion designers take inspiration from Spain - Melbourne fashion designers take inspiration from Spain Y… https://t.co/OPf9pIgm0F', '943235926003724288', '2017-12-19 21:45:50', '0.7783', 'Spain', 39.231296892040831, -4.2638397029795909]\n",
      "Insert count =  184\n",
      "['Melbourne fashion designers take inspiration from Spain - Melbourne fashion designers take inspiration from Spain Y… https://t.co/OPf9pIgm0F', '943235926003724288', '2017-12-19 21:45:50', '0.7783', 'Spain', 39.231296892040831, -4.2638397029795909]\n",
      "Insert count =  185\n",
      "['@LuiCalibre Hey, enjoy your life,man. YouTube’s not in its best position rn so your not missing out on much. Enjoy… https://t.co/hsR6TBEMxe', '943235966508126208', '2017-12-19 21:46:00', '0.2462', 'Man', 7.4004126170000006, -7.5499890560000003]\n",
      "Insert count =  186\n",
      "['The latest Italy travel news! https://t.co/4BzjJQisa6 #vacation', '943236069688053760', '2017-12-19 21:46:20', '0.0', 'Italy', 42.367664416785722, 12.728868306178569]\n",
      "Insert count =  187\n",
      "['@chrislhayes U aint miss sh$&amp; that movie dry as the turkey chevy chase cut in National Lampoons Christmas Vacation', '943236272180617216', '2017-12-19 21:47:10', '-0.167', 'Turkey', 39.124500993571417, 34.841018835476191]\n",
      "Insert count =  188\n",
      "['Great vacation is Reykjavik, Iceland. Only 5 hour flight from NYC. One of my favorite places in the world. 👍 https://t.co/6QsFGrGoFh', '943236305206546433', '2017-12-19 21:47:20', '0.7964', 'Reykjavik', 64.150023619999999, -21.950014490000001]\n",
      "Insert count =  189\n",
      "['Great vacation is Reykjavik, Iceland. Only 5 hour flight from NYC. One of my favorite places in the world. 👍 https://t.co/6QsFGrGoFh', '943236305206546433', '2017-12-19 21:47:20', '0.7964', 'Iceland', 64.856181503333318, -19.763745377777777]\n",
      "Insert count =  190\n",
      "['Aquela foto clichê, que não pode faltar! \\n🇧🇷✈️🇺🇸\\n\\n#viagem #trip #vacation #passaport #férias… https://t.co/z1QsEQMW8b', '943236381190557698', '2017-12-19 21:47:40', '0.0', 'Frias', -28.649583310000001, -65.149987429999996]\n",
      "Insert count =  191\n"
     ]
    },
    {
     "name": "stderr",
     "output_type": "stream",
     "text": [
      "WARNING:root:Applied processor reduces input query to empty string, all comparisons will have score 0. [Query: '|']\n",
      "WARNING:root:Applied processor reduces input query to empty string, all comparisons will have score 0. [Query: '|']\n",
      "WARNING:root:Applied processor reduces input query to empty string, all comparisons will have score 0. [Query: '|']\n"
     ]
    },
    {
     "name": "stdout",
     "output_type": "stream",
     "text": [
      "['Up, up and away \\n.\\n.\\n.\\n#airport #sf #roadie #cotondetulear #vacation #holiday @ San Francisco… https://t.co/K72q2Ev6XM', '943236687181819904', '2017-12-19 21:48:50', '0.0', 'San', 13.30041424, -4.9000474460000003]\n",
      "Insert count =  192\n",
      "['Tour guide in Georgia to enjoy your vacation #يوم_الشهيد https://t.co/5gJZra9hIW', '943236776679833600', '2017-12-19 21:49:10', '0.4939', 'Guide', 36.045098289999999, 101.42418620000001]\n",
      "Insert count =  193\n",
      "['Tour guide in Georgia to enjoy your vacation #يوم_الشهيد https://t.co/5gJZra9hIW', '943236776679833600', '2017-12-19 21:49:10', '0.4939', 'Georgia', 42.079078445714288, 42.981064644285716]\n",
      "Insert count =  194\n",
      "['Air #Canada begins direct #flights to #Belize . #travel #vacation #tourism https://t.co/HJD7jrvUvW', '943236821860995073', '2017-12-19 21:49:20', '0.0', 'Canada', 52.959239207686316, -91.451924135137304]\n",
      "Insert count =  195\n"
     ]
    },
    {
     "name": "stderr",
     "output_type": "stream",
     "text": [
      "WARNING:root:Applied processor reduces input query to empty string, all comparisons will have score 0. [Query: '+']\n",
      "WARNING:root:Applied processor reduces input query to empty string, all comparisons will have score 0. [Query: '+']\n",
      "WARNING:root:Applied processor reduces input query to empty string, all comparisons will have score 0. [Query: '+']\n"
     ]
    },
    {
     "name": "stdout",
     "output_type": "stream",
     "text": [
      "['@girlof65roses @mibellaamor @jordynmccrazy12 @TylerBaltierra @CatelynnLowell @MTV @TMZ If Brandon and Teresa didn’t… https://t.co/le5C7w9KoY', '943236983089807361', '2017-12-19 21:50:00', '0.0', 'Brandon', 49.833274760000002, -99.949982140000003]\n",
      "Insert count =  196\n",
      "['Ormara Beach, Balochistan, Pakistan #Travel #Nature #Holiday #Vacation #Journey #Beautiful #EmergingPakistan… https://t.co/3o56VNbhK7', '943236995643531264', '2017-12-19 21:50:10', '0.0', 'Pakistan', 30.88725971536585, 71.047199973170763]\n",
      "Insert count =  197\n",
      "['Hotels in Hong Kong\\n \\n➡ https://t.co/cdWEY97suH\\n \\n#HongKong #China #Traveller #Travel #Vacation #Destination #Hotel #Holiday #HotelDeals', '943237051729588224', '2017-12-19 21:50:20', '0.0', 'China', 35.389668289700005, 114.002471625175]\n",
      "Insert count =  198\n",
      "['The Jas #Villas\\n\\n&gt;https://t.co/5q6xxusaBx\\n\\n#Bali #BookingHotel #Travel #Traveller #Holiday #HotelDeals #Vacation https://t.co/xzqZ2RPfiv', '943237076484366336', '2017-12-19 21:50:20', '0.0', 'Bali', -8.4934468846666658, 115.1661679]\n",
      "Insert count =  199\n"
     ]
    },
    {
     "name": "stderr",
     "output_type": "stream",
     "text": [
      "WARNING:root:Applied processor reduces input query to empty string, all comparisons will have score 0. [Query: '-']\n",
      "WARNING:root:Applied processor reduces input query to empty string, all comparisons will have score 0. [Query: '-']\n",
      "WARNING:root:Applied processor reduces input query to empty string, all comparisons will have score 0. [Query: '-']\n"
     ]
    },
    {
     "name": "stdout",
     "output_type": "stream",
     "text": [
      "['At least 11 killed, 18 injured in Mexico tour bus crash that was a part of a cruise ship vacation - ABC News -… https://t.co/DTH0gWWsCg', '943237235117260800', '2017-12-19 21:51:00', '-0.872', 'Mexico', 22.496705073280435, -101.12578106915348]\n",
      "Insert count =  200\n",
      "['Reposting @yuvanta:\\nCappadocia, 🇹🇷 📸 by @kyrenian\\n.\\n.\\n.\\n.\\n.\\n#Cappadocia #Turkey #Sunset #Scenic #Holiday #Vacation… https://t.co/qilxLlI3e5', '943237297008410625', '2017-12-19 21:51:20', '0.0', 'Turkey', 39.124500993571417, 34.841018835476191]\n",
      "Insert count =  201\n",
      "['Time to start planning YOUR Florida Vacation !\\nPlease enjoy our video and give us a call for Amazing homes at Fanta… https://t.co/lVXtQ1M7S6', '943237308140179457', '2017-12-19 21:51:20', '0.8622', 'Florida', 26.504501297948725, -81.285591428974357]\n",
      "Insert count =  202\n"
     ]
    },
    {
     "name": "stderr",
     "output_type": "stream",
     "text": [
      "WARNING:root:Applied processor reduces input query to empty string, all comparisons will have score 0. [Query: ':)']\n",
      "WARNING:root:Applied processor reduces input query to empty string, all comparisons will have score 0. [Query: ':)']\n",
      "WARNING:root:Applied processor reduces input query to empty string, all comparisons will have score 0. [Query: ':)']\n"
     ]
    },
    {
     "name": "stdout",
     "output_type": "stream",
     "text": [
      "['Merida Mexico: Ultimate Travel Guide. Discover the Food, History &amp; Culture of this beautiful Mexican City… https://t.co/J7VrG7cibq', '943237549618757632', '2017-12-19 21:52:20', '0.6833', 'Mexico', 22.496705073280435, -101.12578106915348]\n",
      "Insert count =  203\n",
      "['Merida Mexico: Ultimate Travel Guide. Discover the Food, History &amp; Culture of this beautiful Mexican City… https://t.co/J7VrG7cibq', '943237549618757632', '2017-12-19 21:52:20', '0.6833', 'Guide', 36.045098289999999, 101.42418620000001]\n",
      "Insert count =  204\n",
      "['I can’t go on a vacation so i’m spending all of next week in houston.', '943237607521210369', '2017-12-19 21:52:30', '0.0', 'Houston', 29.819974380000001, -95.339979290000002]\n",
      "Insert count =  205\n",
      "['Well, hey, it’d be a good excuse for me to go on vacation. To Egypt.\\n\\n*I smirk, letting out a laugh.* https://t.co/X7Y7Rb3Uv0', '943237705810546688', '2017-12-19 21:52:50', '0.6486', 'Egypt', 28.758547533333335, 31.095179538571436]\n",
      "Insert count =  206\n",
      "['Hotels in Australia\\n\\n➡➡ https://t.co/WMbLr19yT2\\n\\n#Australia #Hotel #Travel #Vacation #Destination #Holiday #HotelDeals #Traveller', '943237843790344192', '2017-12-19 21:53:30', '0.0', 'Australia', -29.846669686964287, 140.31188983080352]\n",
      "Insert count =  207\n",
      "['Hotels in Australia\\n\\n➡➡ https://t.co/WMbLr19yT2\\n\\n#Australia #Hotel #Travel #Vacation #Destination #Holiday #HotelDeals #Traveller', '943237843790344192', '2017-12-19 21:53:30', '0.0', 'Australia', -29.846669686964287, 140.31188983080352]\n",
      "Insert count =  208\n",
      "['Vacation is going well. Had the pleasure of BSing w @zip_tom , man he is good people. #LoveShack https://t.co/d1QBs4xsb6', '943237874102697984', '2017-12-19 21:53:30', '0.8271', 'Man', 7.4004126170000006, -7.5499890560000003]\n",
      "Insert count =  209\n",
      "['From $252 CAD Roundtrip – Toronto, Montreal, Ottawa, or Halifax to FORT MYERS, FLORIDA!\\n\\nJanuary/February/March/Apr… https://t.co/CShiXpxMG7', '943237881497190400', '2017-12-19 21:53:40', '0.0', 'Toronto', 43.699979880000001, -79.420020789999995]\n",
      "Insert count =  210\n",
      "['From $252 CAD Roundtrip – Toronto, Montreal, Ottawa, or Halifax to FORT MYERS, FLORIDA!\\n\\nJanuary/February/March/Apr… https://t.co/CShiXpxMG7', '943237881497190400', '2017-12-19 21:53:40', '0.0', 'Ottawa', 45.416696799999997, -75.70001529999999]\n",
      "Insert count =  211\n",
      "['From $252 CAD Roundtrip – Toronto, Montreal, Ottawa, or Halifax to FORT MYERS, FLORIDA!\\n\\nJanuary/February/March/Apr… https://t.co/CShiXpxMG7', '943237881497190400', '2017-12-19 21:53:40', '0.0', 'Halifax', 44.650025249999999, -63.600004519999999]\n",
      "Insert count =  212\n",
      "['From $252 CAD Roundtrip – Toronto, Montreal, Ottawa, or Halifax to FORT MYERS, FLORIDA!\\n\\nJanuary/February/March/Apr… https://t.co/CShiXpxMG7', '943237881497190400', '2017-12-19 21:53:40', '0.0', 'Florida', 26.504501297948725, -81.285591428974357]\n",
      "Insert count =  213\n",
      "['When Marcos &amp; I went to Colorado he was like wanna hiking? But be careful bc there’s mountain lions and we can get… https://t.co/qA4ZspdyQV', '943238043712020480', '2017-12-19 21:54:10', '0.4767', 'Colorado', 39.087331196000001, -105.83227599333334]\n",
      "Insert count =  214\n",
      "['dream vacation? — I WANNA GO BACK TO NEW YORK but i wanna stay longer with an unlimited amount of money and i wanna… https://t.co/QOaA4izshs', '943238128923561984', '2017-12-19 21:54:30', '0.128', 'York', 53.970386580000003, -1.0800222179999999]\n",
      "Insert count =  215\n"
     ]
    },
    {
     "name": "stderr",
     "output_type": "stream",
     "text": [
      "WARNING:root:Applied processor reduces input query to empty string, all comparisons will have score 0. [Query: '|']\n",
      "WARNING:root:Applied processor reduces input query to empty string, all comparisons will have score 0. [Query: '|']\n",
      "WARNING:root:Applied processor reduces input query to empty string, all comparisons will have score 0. [Query: '|']\n"
     ]
    },
    {
     "name": "stdout",
     "output_type": "stream",
     "text": [
      "['Need this vacation man. Not even going anywhere 😂😂😂', '943238434726010886', '2017-12-19 21:55:50', '0.0', 'Man', 7.4004126170000006, -7.5499890560000003]\n",
      "Insert count =  216\n",
      "['Back to work Tuesday after a quick trip to the East Coast, what a vacation!', '943238606264643584', '2017-12-19 21:56:30', '0.0', 'Coast', -3.1219494695714287, 39.718038132857146]\n",
      "Insert count =  217\n",
      "['In a water lock, Russia https://t.co/14LnH1rQBo #travel #paradise #vacation https://t.co/3V71Tky1j8', '943238637663281152', '2017-12-19 21:56:40', '0.0', 'Russia', 56.643202495751311, 73.978937705094978]\n",
      "Insert count =  218\n"
     ]
    },
    {
     "name": "stderr",
     "output_type": "stream",
     "text": [
      "WARNING:root:Applied processor reduces input query to empty string, all comparisons will have score 0. [Query: '+']\n",
      "WARNING:root:Applied processor reduces input query to empty string, all comparisons will have score 0. [Query: '+']\n",
      "WARNING:root:Applied processor reduces input query to empty string, all comparisons will have score 0. [Query: '+']\n"
     ]
    },
    {
     "name": "stdout",
     "output_type": "stream",
     "text": [
      "['Planning Your Mexican Vacation - Travel Documents Needed For Mexico Trips https://t.co/N54ZW5QSTt https://t.co/hPm4OjN0xR', '943238826113228800', '2017-12-19 21:57:20', '0.0', 'Mexico', 22.496705073280435, -101.12578106915348]\n",
      "Insert count =  219\n",
      "['I wanna go on a vacation, i haven’t been somewhere outside of Michigan in sooooo long. 😩', '943238846271119361', '2017-12-19 21:57:30', '0.0', 'Michigan', 44.119044032727274, -85.470358560000008]\n",
      "Insert count =  220\n",
      "['Cappadocia, #Turkey\\nIs it on your list of #Vacation list?  It should be!\\nhttps://t.co/e9EOx50Pv6 https://t.co/IgxdAzf42E', '943239066828529665', '2017-12-19 21:58:20', '0.0', 'Turkey', 39.124500993571417, 34.841018835476191]\n",
      "Insert count =  221\n",
      "Processed 1303 tweets in 366.6546514034271 seconds\n"
     ]
    }
   ],
   "source": [
    "start_time = time.time()\n",
    "cols = [\"ID\", \"Text\", \"Time\", \"Nouns\", \"Sentiment\"]\n",
    "insert_count = 0\n",
    "tweet_count = 0\n",
    "print(\"Total tweets to process: {0}\".format(tweets.shape[0]))\n",
    "for i in range(tweets.shape[0]):\n",
    "    tweet = tweets.loc[i]\n",
    "    tweet_count += 1\n",
    "    nouns = getPrintableString(tweet[\"Nouns\"])\n",
    "    nouns = nouns.replace(\",\", \" \")\n",
    "    places = matchPlaces(nouns, country_list, province_list, city_list)\n",
    "    for p in range(len(places)):\n",
    "        data = []\n",
    "#         print(\"Nouns={0}\\nMatched Place={1}\".format(nouns, places))\n",
    "        data.append(tweet[\"Text\"])\n",
    "        data.append(tweet[\"ID\"])\n",
    "        data.append(tweet[\"Time\"])\n",
    "        data.append(tweet[\"Sentiment\"])\n",
    "        data.append(places[p][0]) #place\n",
    "        data.append(places[p][1]) #lat\n",
    "        data.append(places[p][2]) #long\n",
    "        print(data)\n",
    "        insertdata(data)\n",
    "        insert_count += 1\n",
    "        print(\"Insert count =  {0}\".format(insert_count))\n",
    "\n",
    "print(\"Processed {0} tweets in {1} seconds\".format(tweet_count, time.time() - start_time))"
   ]
  }
 ],
 "metadata": {
  "kernelspec": {
   "display_name": "Python 3",
   "language": "python",
   "name": "python3"
  },
  "language_info": {
   "codemirror_mode": {
    "name": "ipython",
    "version": 3
   },
   "file_extension": ".py",
   "mimetype": "text/x-python",
   "name": "python",
   "nbconvert_exporter": "python",
   "pygments_lexer": "ipython3",
   "version": "3.6.0"
  }
 },
 "nbformat": 4,
 "nbformat_minor": 2
}
